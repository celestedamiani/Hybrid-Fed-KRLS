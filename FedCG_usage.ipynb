{
 "cells": [
  {
   "cell_type": "markdown",
   "metadata": {},
   "source": [
    "In this notebook we showcase the usage of FedCG (A secure federalized kernel least square learning algorithm) as shown in Algorithm 1 of the paper. \n",
    "\n",
    "First we explore the datasets that we used for our tests (Table 1 from the paper), then we show how to use the class FedCG, then run the simulations described in Section 3 (Experimental results). \n",
    "\n"
   ]
  },
  {
   "cell_type": "code",
   "execution_count": 1,
   "metadata": {},
   "outputs": [],
   "source": [
    "# Import necessary libraries and modules\n",
    "import numpy as np\n",
    "import pdb\n",
    "from sklearn.metrics import accuracy_score\n",
    "\n",
    "\n",
    "# importin\n",
    "# scripts for auxiliary functions\n",
    "import sys\n",
    "import os\n",
    "sys.path.append('..')\n",
    "sys.path.append('./py_scripts')\n",
    "\n",
    "\n",
    "from py_scripts.kernel import Kernel\n",
    "from py_scripts.dataset_handler import *\n",
    "from py_scripts.federated_functions import FedCG \n",
    "from py_scripts.simulation import model_simulation, nys_simulation, nys_simulation_surface"
   ]
  },
  {
   "cell_type": "code",
   "execution_count": 2,
   "metadata": {},
   "outputs": [],
   "source": [
    "# INITIALISATION\n",
    "# Define your data, parameters, and model initialization\n",
    "# kernel type can be: 0 for linear, 1 for RBF, 2 for polynomial, 3 for random kernel, 4 wu kernel\n",
    "# sigma: width/variance of the rbf kernel, default is None\n",
    "# polydegree: degree of the polynomial kernel, default is None\n",
    "# binary: 1 for yes, default is None\n",
    "\n",
    "\n",
    "kernel_params = Kernel(kernel_type=1, kernel_sigma = 1, poly_degree = None, binary = None) \n",
    "nyst_points = 50    # Define the number of Nystrom points\n",
    "lam = 1e-6  # Define the regularization parameter - è a 1e-6 per tutti tranne sonar e ionosphere\n",
    "Nb = 10             # Define the number of batches or hospitals\n",
    "toll = 1e-3      # Define the tolerance value - a 1e-3 per tutti meno sonar e ionosphere"
   ]
  },
  {
   "cell_type": "markdown",
   "metadata": {},
   "source": [
    "# Explore datasets\n"
   ]
  },
  {
   "cell_type": "markdown",
   "metadata": {},
   "source": [
    "### Toy dataset"
   ]
  },
  {
   "cell_type": "code",
   "execution_count": null,
   "metadata": {},
   "outputs": [],
   "source": [
    "[X_train, y_train, X_test, y_test, W ]=load_random_gen_dataset( N=2000, feat=3, seed=0, nystr_pt=nyst_points, nystr_method='subsampling')\n",
    "\n",
    "visualize_dataset_pca_with_W(X_train, y_train, W, 'TRAIN generated, W subsampling')\n",
    "visualize_dataset_pca(X_test, y_test,'TEST generated')"
   ]
  },
  {
   "cell_type": "markdown",
   "metadata": {},
   "source": [
    "### Iris"
   ]
  },
  {
   "cell_type": "code",
   "execution_count": null,
   "metadata": {},
   "outputs": [],
   "source": [
    "[X_train, y_train, X_test, y_test, W ]= load_iris_dataset(seed=0, nystr_pt=50, nystr_method='subsampling')\n",
    "\n",
    "visualize_dataset_pca_with_W(X_train, y_train, W, 'TRAIN Iris, W subsampling')\n",
    "visualize_dataset_pca(X_test, y_test,'TEST Iris')"
   ]
  },
  {
   "cell_type": "markdown",
   "metadata": {},
   "source": [
    "### Ionosphere"
   ]
  },
  {
   "cell_type": "code",
   "execution_count": null,
   "metadata": {},
   "outputs": [],
   "source": [
    "[X_train, y_train, X_test, y_test, W ]= load_ionosphere_dataset(seed=0, nystr_pt=50, nystr_method='subsampling')\n",
    "\n",
    "visualize_dataset_pca_with_W(X_train, y_train, W, 'TRAIN Ionosphere subsampling')\n",
    "visualize_dataset_pca(X_test, y_test,'TEST Ionosphere')"
   ]
  },
  {
   "cell_type": "markdown",
   "metadata": {},
   "source": [
    "### Sonar"
   ]
  },
  {
   "cell_type": "code",
   "execution_count": null,
   "metadata": {},
   "outputs": [],
   "source": [
    "[X_train, y_train, X_test, y_test, W ]= load_sonar_dataset(seed=0, nystr_pt=50, nystr_method='subsampling')\n",
    "\n",
    "visualize_dataset_pca_with_W(X_train, y_train, W, 'TRAINING Sonar subsampling')\n",
    "visualize_dataset_pca(X_test, y_test,'TEST Sonar')"
   ]
  },
  {
   "cell_type": "markdown",
   "metadata": {},
   "source": [
    "### BC Wisconsin"
   ]
  },
  {
   "cell_type": "code",
   "execution_count": null,
   "metadata": {},
   "outputs": [],
   "source": [
    "[X_train, y_train, X_test, y_test, W ]= load_bc_dataset(seed=0, nystr_pt=50, nystr_method='subsampling')\n",
    "\n",
    "visualize_dataset_pca_with_W(X_train, y_train, W, 'TRAIN BC Wisconsin subsampling')\n",
    "visualize_dataset_pca(X_test, y_test,'TEST BCWisconsin normal')"
   ]
  },
  {
   "cell_type": "markdown",
   "metadata": {},
   "source": [
    "### Wine"
   ]
  },
  {
   "cell_type": "code",
   "execution_count": null,
   "metadata": {},
   "outputs": [],
   "source": [
    "[X_train, y_train, X_test, y_test, W ]= load_wine_dataset(seed=0, nystr_pt=50, nystr_method='subsampling')\n",
    "\n",
    "visualize_dataset_pca_with_W(X_train, y_train, W, 'TRAIN Wine subsampling')\n",
    "visualize_dataset_pca(X_test, y_test,'TEST Wine')"
   ]
  },
  {
   "cell_type": "code",
   "execution_count": null,
   "metadata": {},
   "outputs": [],
   "source": []
  },
  {
   "cell_type": "markdown",
   "metadata": {},
   "source": [
    "# Using the class - Toy dataset"
   ]
  },
  {
   "cell_type": "code",
   "execution_count": null,
   "metadata": {},
   "outputs": [],
   "source": [
    "[X_train, y_train, X_test, y_test, W ]=load_random_gen_dataset( N=2000, feat=3, seed=0, nystr_pt=nyst_points, nystr_method='uniform')\n",
    "#visualize_dataset_pca_with_W(X_train, y_train, W, \"Generated_ds_W_uniform\")\n",
    "\n",
    "# Initialise the FedCG object\n",
    "fedcg_model = FedCG(kernel_params, nyst_points, lam, Nb, toll)\n",
    "# We also initialise a CenCG centralised model for comparison\n",
    "cencg_model = FedCG(kernel_params, nyst_points, lam, 1, toll)\n",
    "\n",
    "#TRAINING\n",
    "localResidue, federated_accuracy, test_accuracy, elapsed, alpha = fedcg_model.fit(X_train, y_train, X_test, y_test, W=W, alpha_init=None)\n"
   ]
  },
  {
   "cell_type": "code",
   "execution_count": null,
   "metadata": {},
   "outputs": [],
   "source": [
    "central_localResidue, central_federated_accuracy, cen_time, central_test_accuracy , central_alpha = cencg_model.fit(X_train, y_train, X_test, y_test, W=W, alpha_init=None)"
   ]
  },
  {
   "cell_type": "code",
   "execution_count": null,
   "metadata": {},
   "outputs": [],
   "source": [
    "#PREDICTIONS\n",
    "predictions = fedcg_model.predict(X_test)\n",
    "transformed_predictions = np.sign(predictions)\n",
    "print(\"Unique values in predictions: \", np.unique(transformed_predictions))  # Display unique values in transformed_predictions\n",
    "\n",
    "# Compute accuracy\n",
    "accuracy = accuracy_score(y_test, transformed_predictions)\n",
    "print(f\"Accuracy of the federated model on the test set: {accuracy}\")"
   ]
  },
  {
   "cell_type": "code",
   "execution_count": null,
   "metadata": {},
   "outputs": [],
   "source": [
    "# CENTRALISED PREDICTIONS\n",
    "cen_predictions = cencg_model.predict(X_test)\n",
    "cen_transformed_predictions = np.sign(cen_predictions)\n",
    "\n",
    "# Compute accuracy\n",
    "cen_accuracy = accuracy_score(y_test, cen_transformed_predictions)\n",
    "print(f\"Accuracy of the centralised model on the test set: {cen_accuracy}\")"
   ]
  },
  {
   "cell_type": "markdown",
   "metadata": {},
   "source": [
    "## Testing with actual datasets"
   ]
  },
  {
   "cell_type": "markdown",
   "metadata": {},
   "source": [
    "### Iris dataset"
   ]
  },
  {
   "cell_type": "code",
   "execution_count": null,
   "metadata": {},
   "outputs": [],
   "source": [
    "[X_iris_train, y_iris_train, X_iris_test, y_iris_test, W_iris ]=load_iris_dataset(nystr_pt=nyst_points, nystr_method='uniform')\n",
    "\n",
    "# Initialise the FedCG object\n",
    "fedcg_model_iris = FedCG(kernel_params, nyst_points, lam, Nb, toll)\n",
    "# We also initialise a CenCG centralised model for comparison\n",
    "cencg_model_iris = FedCG(kernel_params, nyst_points, lam, 1, toll)\n",
    "\n",
    "iris_localResidue, iris_federated_accuracy, iris_test_accuracy,exp_time,  iris_alpha = fedcg_model_iris.fit(X_iris_train, y_iris_train, X_iris_test, y_iris_test, W=W_iris, alpha_init=None)\n"
   ]
  },
  {
   "cell_type": "code",
   "execution_count": null,
   "metadata": {},
   "outputs": [],
   "source": [
    "central_iris_localResidue, cent_iris_federated_accuracy, cent_iris_test_accuracy, cen_ext_time,  central_iris_alpha = cencg_model_iris.fit(X_iris_train, y_iris_train, X_iris_test, y_iris_test, W=W_iris, alpha_init=None)"
   ]
  },
  {
   "cell_type": "markdown",
   "metadata": {},
   "source": [
    "### Ionosphere dataset"
   ]
  },
  {
   "cell_type": "code",
   "execution_count": null,
   "metadata": {},
   "outputs": [],
   "source": [
    "[X_ionosphere_train, y_ionosphere_train, X_ionosphere_test, y_ionosphere_test, W_ionosphere ]=load_ionosphere_dataset(nystr_pt=nyst_points, nystr_method='uniform')"
   ]
  },
  {
   "cell_type": "code",
   "execution_count": null,
   "metadata": {},
   "outputs": [],
   "source": [
    "# Define the range of values for lambda and toll for grid search\n",
    "lam_values = [1e-4, 1e-5, 1e-6, 1e-7, 1e-8, 1e-9, 1e-10, 1e-11]  # Add more values if needed\n",
    "toll_values = [1e-10, 1e-9, 1e-8, 1e-7, 1e-6, 1e-5, 1e-4, 1e-3, 1e-2]  # Add more values if needed\n",
    "\n",
    "best_epoch = 0\n",
    "best_params = {}\n",
    "\n",
    "for lam in lam_values:\n",
    "    for toll in toll_values:\n",
    "        fedcg_model_ionosphere = FedCG(kernel_params, nyst_points, lam, Nb, toll)\n",
    "        ionosphere_localResidue, ionosphere_federated_accuracy, ionosphere_test_accuracy, ionosphere_elapsed, ionosphere_alpha = fedcg_model_ionosphere.fit(X_ionosphere_train, y_ionosphere_train, X_ionosphere_test, y_ionosphere_test, W=W_ionosphere, alpha_init=None, silent=True)\n",
    "        stopping_epoch = len(ionosphere_localResidue)\n",
    "        if stopping_epoch > best_epoch:\n",
    "            best_epoch = stopping_epoch\n",
    "            best_params['lambda'] = lam\n",
    "            best_params['tolerance'] = toll\n",
    "            best_model = fedcg_model_ionosphere\n",
    "\n",
    "print(\"Best stopping epoch:\", best_epoch)\n",
    "print(\"Best lambda:\", best_params['lambda'])\n",
    "print(\"Best tolerance:\", best_params['tolerance'])\n"
   ]
  },
  {
   "cell_type": "code",
   "execution_count": null,
   "metadata": {},
   "outputs": [],
   "source": [
    "lam = 1e-6\n",
    "toll =  1e-3\n",
    "\n",
    "# Initialise the FedCG object\n",
    "fedcg_model_ionosphere = FedCG(kernel_params, nyst_points, lam, Nb, toll)\n",
    "# We also initialise a CenCG centralised model for comparison\n",
    "cencg_model_ionosphere = FedCG(kernel_params, nyst_points, lam, 1, toll)\n",
    "\n",
    "ionosphere_localResidue, ionosphere_federated_accuracy, ionosphere_test_accuracy, ionosphere_elapsed, ionosphere_alpha = fedcg_model_ionosphere.fit(X_ionosphere_train, y_ionosphere_train, X_ionosphere_test, y_ionosphere_test, W=W_ionosphere, alpha_init=None)"
   ]
  },
  {
   "cell_type": "code",
   "execution_count": null,
   "metadata": {},
   "outputs": [],
   "source": [
    "#PREDICTIONS\n",
    "predictions = fedcg_model_ionosphere.predict(X_ionosphere_test)\n",
    "transformed_predictions = np.sign(predictions)\n",
    "print(\"Unique values in predictions: \", np.unique(transformed_predictions))  # Display unique values in transformed_predictions\n",
    "\n",
    "# Compute accuracy\n",
    "accuracy = accuracy_score(y_ionosphere_test, transformed_predictions)\n",
    "print(f\"Accuracy of the federated model on the test set: {accuracy}\")"
   ]
  },
  {
   "cell_type": "code",
   "execution_count": null,
   "metadata": {},
   "outputs": [],
   "source": [
    "central_ionosphere_localResidue, cent_ionosphere_federated_accuracy, cent_ionosphere_test_accuracy,central_ionosphere_elapsed, central_ionosphere_alpha = cencg_model_ionosphere.fit(X_ionosphere_train, y_ionosphere_train, X_ionosphere_test, y_ionosphere_test, W=W_ionosphere, alpha_init=None)"
   ]
  },
  {
   "cell_type": "markdown",
   "metadata": {},
   "source": [
    "### Sonar dataset"
   ]
  },
  {
   "cell_type": "code",
   "execution_count": null,
   "metadata": {},
   "outputs": [],
   "source": [
    "[X_sonar_train, y_sonar_train, X_sonar_test, y_sonar_test, W_sonar ]=load_sonar_dataset(nystr_pt=nyst_points, nystr_method='uniform')\n"
   ]
  },
  {
   "cell_type": "code",
   "execution_count": null,
   "metadata": {},
   "outputs": [],
   "source": [
    "# Define the range of values for lambda and toll for grid search\n",
    "lam_values = [1e-1, 1e-2, 1e-3, 1e-4, 1e-5, 1e-6, 1e-7, 1e-8, 1e-9, 1e-10, 1e-11]  # Add more values if needed\n",
    "toll_values = [1e-10, 1e-9, 1e-8, 1e-7, 1e-6, 1e-5, 1e-4, 1e-3, 1e-2, 1e-1]  # Add more values if needed\n",
    "\n",
    "best_epoch = 0\n",
    "best_params = {}\n",
    "\n",
    "for lam in lam_values:\n",
    "    for toll in toll_values:\n",
    "        fedcg_model_sonar = FedCG(kernel_params, nyst_points, lam, Nb, toll)\n",
    "        sonar_localResidue, sonar_federated_accuracy, sonar_test_accuracy, sonar_elapsed, sonar_alpha = fedcg_model_sonar.fit(X_sonar_train, y_sonar_train, X_sonar_test, y_sonar_test, W=W_sonar, alpha_init=None, silent=True)\n",
    "        stopping_epoch = len(sonar_localResidue)\n",
    "        if stopping_epoch > best_epoch:\n",
    "            best_epoch = stopping_epoch\n",
    "            best_params['lambda'] = lam\n",
    "            best_params['tolerance'] = toll\n",
    "            best_model = fedcg_model_sonar\n",
    "\n",
    "print(\"Best stopping epoch:\", best_epoch)\n",
    "print(\"Best lambda:\", best_params['lambda'])\n",
    "print(\"Best tolerance:\", best_params['tolerance'])\n"
   ]
  },
  {
   "cell_type": "code",
   "execution_count": null,
   "metadata": {},
   "outputs": [],
   "source": [
    "lam = 1e-6\n",
    "toll = 1e-3\n",
    "fedcg_model_sonar = FedCG(kernel_params, nyst_points, lam, Nb, toll)\n",
    "cencg_model_sonar = FedCG(kernel_params, nyst_points, lam, 1, toll)\n",
    "\n",
    "sonar_localResidue, sonar_federated_accuracy, sonar_test_accuracy,sonar_elapsed, sonar_alpha = fedcg_model_sonar.fit(X_sonar_train, y_sonar_train, X_sonar_test, y_sonar_test, W=W_sonar, alpha_init=None)"
   ]
  },
  {
   "cell_type": "code",
   "execution_count": null,
   "metadata": {},
   "outputs": [],
   "source": [
    "#PREDICTIONS\n",
    "predictions = fedcg_model_sonar.predict(X_sonar_test)\n",
    "transformed_predictions = np.sign(predictions)\n",
    "print(\"Unique values in predictions: \", np.unique(transformed_predictions))  # Display unique values in transformed_predictions\n",
    "\n",
    "# Compute accuracy\n",
    "accuracy = accuracy_score(y_sonar_test, transformed_predictions)\n",
    "print(f\"Accuracy of the federated model on the test set: {accuracy}\")"
   ]
  },
  {
   "cell_type": "code",
   "execution_count": null,
   "metadata": {},
   "outputs": [],
   "source": [
    "central_sonar_localResidue, cen_sonar_federated_accuracy, cen_sonar_test_accuracy,central_sonar_elapsed, central_sonar_alpha = cencg_model_sonar.fit(X_sonar_train, y_sonar_train, X_sonar_test, y_sonar_test, W=W_sonar, alpha_init=None)"
   ]
  },
  {
   "cell_type": "code",
   "execution_count": null,
   "metadata": {},
   "outputs": [],
   "source": []
  },
  {
   "cell_type": "markdown",
   "metadata": {},
   "source": [
    "# Simulations\n",
    "Random initialisation at each run, 10 runs, function `model_simulation` in `py_scripts/simulation.py`."
   ]
  },
  {
   "cell_type": "markdown",
   "metadata": {},
   "source": [
    "## Toy dataset"
   ]
  },
  {
   "cell_type": "code",
   "execution_count": 26,
   "metadata": {},
   "outputs": [
    {
     "name": "stderr",
     "output_type": "stream",
     "text": [
      "/home/cdamiani/MISE_project/hybrid-fed-krls/py_scripts/simulation.py:72: FutureWarning: The behavior of DataFrame concatenation with empty or all-NA entries is deprecated. In a future version, this will no longer exclude empty or all-NA columns when determining the result dtypes. To retain the old behavior, exclude the relevant entries before the concat operation.\n",
      "  fedcg_results_df = pd.concat([fedcg_results_df, pd.DataFrame({'Run': run + 1, 'Seed': run, 'Central test accuracy': cent_test_accuracy,\n",
      "/home/cdamiani/MISE_project/hybrid-fed-krls/py_scripts/simulation.py:95: FutureWarning: The behavior of DataFrame concatenation with empty or all-NA entries is deprecated. In a future version, this will no longer exclude empty or all-NA columns when determining the result dtypes. To retain the old behavior, exclude the relevant entries before the concat operation.\n",
      "  cencg_results_df = pd.concat([cencg_results_df, pd.DataFrame({'Run': run + 1, 'Seed': run, 'Cantral test accuracy': cent_test_accuracy,\n"
     ]
    }
   ],
   "source": [
    "[X_train, y_train, X_test, y_test, W ]=load_random_gen_dataset( N=2000, feat=3, seed=0, nystr_pt=nyst_points, nystr_method='uniform')\n",
    "\n",
    "model_simulation('Generated_uniform', 10, X_train, y_train, X_test, y_test, W, kernel_params, nyst_points, lam, Nb, toll)"
   ]
  },
  {
   "cell_type": "markdown",
   "metadata": {},
   "source": [
    "## Iris dataset\n"
   ]
  },
  {
   "cell_type": "code",
   "execution_count": 27,
   "metadata": {},
   "outputs": [
    {
     "name": "stderr",
     "output_type": "stream",
     "text": [
      "/home/cdamiani/MISE_project/hybrid-fed-krls/py_scripts/simulation.py:72: FutureWarning: The behavior of DataFrame concatenation with empty or all-NA entries is deprecated. In a future version, this will no longer exclude empty or all-NA columns when determining the result dtypes. To retain the old behavior, exclude the relevant entries before the concat operation.\n",
      "  fedcg_results_df = pd.concat([fedcg_results_df, pd.DataFrame({'Run': run + 1, 'Seed': run, 'Central test accuracy': cent_test_accuracy,\n",
      "/home/cdamiani/MISE_project/hybrid-fed-krls/py_scripts/simulation.py:95: FutureWarning: The behavior of DataFrame concatenation with empty or all-NA entries is deprecated. In a future version, this will no longer exclude empty or all-NA columns when determining the result dtypes. To retain the old behavior, exclude the relevant entries before the concat operation.\n",
      "  cencg_results_df = pd.concat([cencg_results_df, pd.DataFrame({'Run': run + 1, 'Seed': run, 'Cantral test accuracy': cent_test_accuracy,\n"
     ]
    }
   ],
   "source": [
    "[X_train, y_train, X_test, y_test, W ]=load_iris_dataset( nystr_pt=nyst_points, nystr_method='uniform')\n",
    "model_simulation('Iris_uniform', 10, X_train, y_train, X_test, y_test, W, kernel_params, nyst_points, lam, Nb, toll)"
   ]
  },
  {
   "cell_type": "markdown",
   "metadata": {},
   "source": [
    "## Ionosphere dataset"
   ]
  },
  {
   "cell_type": "code",
   "execution_count": 28,
   "metadata": {},
   "outputs": [
    {
     "name": "stderr",
     "output_type": "stream",
     "text": [
      "/home/cdamiani/MISE_project/hybrid-fed-krls/py_scripts/simulation.py:72: FutureWarning: The behavior of DataFrame concatenation with empty or all-NA entries is deprecated. In a future version, this will no longer exclude empty or all-NA columns when determining the result dtypes. To retain the old behavior, exclude the relevant entries before the concat operation.\n",
      "  fedcg_results_df = pd.concat([fedcg_results_df, pd.DataFrame({'Run': run + 1, 'Seed': run, 'Central test accuracy': cent_test_accuracy,\n",
      "/home/cdamiani/MISE_project/hybrid-fed-krls/py_scripts/simulation.py:95: FutureWarning: The behavior of DataFrame concatenation with empty or all-NA entries is deprecated. In a future version, this will no longer exclude empty or all-NA columns when determining the result dtypes. To retain the old behavior, exclude the relevant entries before the concat operation.\n",
      "  cencg_results_df = pd.concat([cencg_results_df, pd.DataFrame({'Run': run + 1, 'Seed': run, 'Cantral test accuracy': cent_test_accuracy,\n"
     ]
    }
   ],
   "source": [
    "lam = 1e-4\n",
    "toll =  1e-6\n",
    "[X_train, y_train, X_test, y_test, W ]=load_ionosphere_dataset(nystr_pt=nyst_points, nystr_method='uniform')\n",
    "model_simulation('Ionosphere_uniform', 10, X_train, y_train, X_test, y_test, W, kernel_params, nyst_points, lam, Nb, toll)"
   ]
  },
  {
   "cell_type": "markdown",
   "metadata": {},
   "source": [
    "## Sonar dataset"
   ]
  },
  {
   "cell_type": "code",
   "execution_count": 29,
   "metadata": {},
   "outputs": [
    {
     "name": "stderr",
     "output_type": "stream",
     "text": [
      "/home/cdamiani/MISE_project/hybrid-fed-krls/py_scripts/simulation.py:72: FutureWarning: The behavior of DataFrame concatenation with empty or all-NA entries is deprecated. In a future version, this will no longer exclude empty or all-NA columns when determining the result dtypes. To retain the old behavior, exclude the relevant entries before the concat operation.\n",
      "  fedcg_results_df = pd.concat([fedcg_results_df, pd.DataFrame({'Run': run + 1, 'Seed': run, 'Central test accuracy': cent_test_accuracy,\n",
      "/home/cdamiani/MISE_project/hybrid-fed-krls/py_scripts/simulation.py:95: FutureWarning: The behavior of DataFrame concatenation with empty or all-NA entries is deprecated. In a future version, this will no longer exclude empty or all-NA columns when determining the result dtypes. To retain the old behavior, exclude the relevant entries before the concat operation.\n",
      "  cencg_results_df = pd.concat([cencg_results_df, pd.DataFrame({'Run': run + 1, 'Seed': run, 'Cantral test accuracy': cent_test_accuracy,\n"
     ]
    }
   ],
   "source": [
    "[X_train, y_train, X_test, y_test, W ]=load_sonar_dataset( nystr_pt=nyst_points, nystr_method='uniform')\n",
    "lam = 1e-6\n",
    "toll = 1e-6\n",
    "model_simulation('Sonar_uniform', 10, X_train, y_train, X_test, y_test, W, kernel_params, nyst_points, lam, Nb, toll)"
   ]
  },
  {
   "cell_type": "markdown",
   "metadata": {},
   "source": [
    "## Breast cancer"
   ]
  },
  {
   "cell_type": "code",
   "execution_count": 30,
   "metadata": {},
   "outputs": [
    {
     "name": "stderr",
     "output_type": "stream",
     "text": [
      "/home/cdamiani/MISE_project/hybrid-fed-krls/py_scripts/simulation.py:72: FutureWarning: The behavior of DataFrame concatenation with empty or all-NA entries is deprecated. In a future version, this will no longer exclude empty or all-NA columns when determining the result dtypes. To retain the old behavior, exclude the relevant entries before the concat operation.\n",
      "  fedcg_results_df = pd.concat([fedcg_results_df, pd.DataFrame({'Run': run + 1, 'Seed': run, 'Central test accuracy': cent_test_accuracy,\n",
      "/home/cdamiani/MISE_project/hybrid-fed-krls/py_scripts/simulation.py:95: FutureWarning: The behavior of DataFrame concatenation with empty or all-NA entries is deprecated. In a future version, this will no longer exclude empty or all-NA columns when determining the result dtypes. To retain the old behavior, exclude the relevant entries before the concat operation.\n",
      "  cencg_results_df = pd.concat([cencg_results_df, pd.DataFrame({'Run': run + 1, 'Seed': run, 'Cantral test accuracy': cent_test_accuracy,\n"
     ]
    }
   ],
   "source": [
    "lam = 1e-6\n",
    "toll = 1e-3\n",
    "[X_train, y_train, X_test, y_test, W ]=load_bc_dataset( nystr_pt=nyst_points, nystr_method='uniform')\n",
    "model_simulation('Breast_cancer_uniform', 10, X_train, y_train, X_test, y_test, W, kernel_params, nyst_points, lam, Nb, toll)"
   ]
  },
  {
   "cell_type": "markdown",
   "metadata": {},
   "source": [
    "## Wine dataset"
   ]
  },
  {
   "cell_type": "code",
   "execution_count": 31,
   "metadata": {},
   "outputs": [
    {
     "name": "stderr",
     "output_type": "stream",
     "text": [
      "/home/cdamiani/MISE_project/hybrid-fed-krls/py_scripts/simulation.py:72: FutureWarning: The behavior of DataFrame concatenation with empty or all-NA entries is deprecated. In a future version, this will no longer exclude empty or all-NA columns when determining the result dtypes. To retain the old behavior, exclude the relevant entries before the concat operation.\n",
      "  fedcg_results_df = pd.concat([fedcg_results_df, pd.DataFrame({'Run': run + 1, 'Seed': run, 'Central test accuracy': cent_test_accuracy,\n",
      "/home/cdamiani/MISE_project/hybrid-fed-krls/py_scripts/simulation.py:95: FutureWarning: The behavior of DataFrame concatenation with empty or all-NA entries is deprecated. In a future version, this will no longer exclude empty or all-NA columns when determining the result dtypes. To retain the old behavior, exclude the relevant entries before the concat operation.\n",
      "  cencg_results_df = pd.concat([cencg_results_df, pd.DataFrame({'Run': run + 1, 'Seed': run, 'Cantral test accuracy': cent_test_accuracy,\n"
     ]
    }
   ],
   "source": [
    "[X_train, y_train, X_test, y_test, W ]=load_wine_dataset( nystr_pt=nyst_points, nystr_method='uniform')\n",
    "model_simulation('Wine_uniform', 10, X_train, y_train, X_test, y_test, W, kernel_params, nyst_points, lam, Nb, toll)"
   ]
  },
  {
   "cell_type": "markdown",
   "metadata": {},
   "source": [
    "# Nystrom matrix simulations\n",
    "\n",
    "Nystrom landmark new initialisation at each run, 10 runs, function `nys_simulation` in `py_scripts/simulation.py`."
   ]
  },
  {
   "cell_type": "code",
   "execution_count": null,
   "metadata": {},
   "outputs": [],
   "source": [
    "[X_train, y_train, X_test, y_test]=load_random_gen_dataset(N=2000, feat=3, seed=0, nystr_pt=nyst_points, nystr_method='uniform')[:-1]\n",
    "nys_simulation('Generated', 10, X_train, y_train, X_test, y_test, 'uniform', kernel_params, nyst_points, lam, Nb, toll)\n"
   ]
  },
  {
   "cell_type": "code",
   "execution_count": null,
   "metadata": {},
   "outputs": [],
   "source": [
    "[X_train, y_train, X_test, y_test]=load_iris_dataset( nystr_pt=nyst_points, nystr_method='uniform')[:-1]\n",
    "nys_simulation('Iris', 10, X_train, y_train, X_test, y_test, 'uniform', kernel_params, nyst_points, lam, Nb, toll)"
   ]
  },
  {
   "cell_type": "code",
   "execution_count": null,
   "metadata": {},
   "outputs": [],
   "source": [
    "lam = 1e-4\n",
    "toll =  1e-6\n",
    "[X_train, y_train, X_test, y_test ]=load_ionosphere_dataset(nystr_pt=nyst_points, nystr_method='uniform')[:-1]\n",
    "nys_simulation('Ionosphere', 10, X_train, y_train, X_test, y_test, 'uniform', kernel_params, nyst_points, lam, Nb, toll)"
   ]
  },
  {
   "cell_type": "code",
   "execution_count": null,
   "metadata": {},
   "outputs": [],
   "source": [
    "lam = 1e-6\n",
    "toll =  1e-4\n",
    "[X_train, y_train, X_test, y_test ]=load_sonar_dataset( nystr_pt=nyst_points, nystr_method='uniform')[:-1]\n",
    "nys_simulation('Sonar', 10, X_train, y_train, X_test, y_test, 'uniform', kernel_params, nyst_points, lam, Nb, toll)"
   ]
  },
  {
   "cell_type": "code",
   "execution_count": null,
   "metadata": {},
   "outputs": [],
   "source": [
    "[X_train, y_train, X_test, y_test ]=load_bc_dataset( nystr_pt=nyst_points, nystr_method='uniform')[:-1]\n",
    "nys_simulation('BreastCancer', 10, X_train, y_train, X_test, y_test, 'uniform', kernel_params, nyst_points, lam, Nb, toll)"
   ]
  },
  {
   "cell_type": "code",
   "execution_count": null,
   "metadata": {},
   "outputs": [],
   "source": [
    "[X_train, y_train, X_test, y_test ]=load_wine_dataset( nystr_pt=nyst_points, nystr_method='uniform')[:-1]   \n",
    "nys_simulation('Wine', 10, X_train, y_train, X_test, y_test, 'uniform', kernel_params, nyst_points, lam, Nb, toll)"
   ]
  },
  {
   "cell_type": "markdown",
   "metadata": {},
   "source": [
    "# Summary tables\n"
   ]
  },
  {
   "cell_type": "markdown",
   "metadata": {},
   "source": [
    "## FedCG vs CenCG, random initialisation\n",
    "Fixed Nystrom landmarks matrix.\n",
    "Average results for 10 simulations"
   ]
  },
  {
   "cell_type": "markdown",
   "metadata": {},
   "source": [
    "### uniform"
   ]
  },
  {
   "cell_type": "code",
   "execution_count": null,
   "metadata": {},
   "outputs": [],
   "source": [
    "\n",
    "fedCG_generated_uniform = \"Results_FedCG/Random_Initialisation/fedCG/Generated/fedcg_results_Generated_uniform.csv\"  # Replace with the actual file path on your machine\n",
    "get_stats_latex(fedCG_generated_uniform)"
   ]
  },
  {
   "cell_type": "code",
   "execution_count": null,
   "metadata": {},
   "outputs": [],
   "source": [
    "cenCG_generated_uniform = \"Results_FedCG/Random_Initialisation/cenCG/Generated/cencg_results_Generated_uniform.csv\"\n",
    "get_stats_latex(cenCG_generated_uniform)"
   ]
  },
  {
   "cell_type": "code",
   "execution_count": null,
   "metadata": {},
   "outputs": [],
   "source": [
    "fedCG_Iris_uniform = \"Results_FedCG/Random_Initialisation/fedCG/Iris/fedcg_results_Iris_uniform.csv\"\n",
    "get_stats_latex(fedCG_Iris_uniform)"
   ]
  },
  {
   "cell_type": "code",
   "execution_count": null,
   "metadata": {},
   "outputs": [],
   "source": [
    "cenGC_Iris_uniform = \"Random_Initialisation/cenCG/Iris/cencg_results_Iris_uniform.csv\"\n",
    "get_stats_latex(cenGC_Iris_uniform)"
   ]
  },
  {
   "cell_type": "code",
   "execution_count": null,
   "metadata": {},
   "outputs": [],
   "source": [
    "fedCG_Ionosphere_uniform = \"Results_FedCG/Random_Initialisation/fedCG/Ionosphere/fedcg_results_Ionosphere_uniform.csv\"\n",
    "get_stats_latex(fedCG_Ionosphere_uniform)"
   ]
  },
  {
   "cell_type": "code",
   "execution_count": null,
   "metadata": {},
   "outputs": [],
   "source": [
    "cenCG_Ionosphere_uniform = \"Results_FedCG/Random_Initialisation/cenCG/Ionosphere/cencg_results_Ionosphere_uniform.csv\"\n",
    "get_stats_latex(cenCG_Ionosphere_uniform)"
   ]
  },
  {
   "cell_type": "code",
   "execution_count": null,
   "metadata": {},
   "outputs": [],
   "source": [
    "fedCG_Sonar_uniform = \"Results_FedCG/Random_Initialisation/fedCG/Sonar/fedcg_results_Sonar_uniform.csv\"\n",
    "get_stats_latex(fedCG_Sonar_uniform)"
   ]
  },
  {
   "cell_type": "code",
   "execution_count": null,
   "metadata": {},
   "outputs": [],
   "source": [
    "cenCG_Sonar_uniform = \"Results_FedCG/Random_Initialisation/cenCG/Sonar/cencg_results_Sonar_uniform.csv\"\n",
    "get_stats_latex(cenCG_Sonar_uniform)"
   ]
  },
  {
   "cell_type": "code",
   "execution_count": null,
   "metadata": {},
   "outputs": [],
   "source": [
    "fedCG_BreastCancer_uniform = \"Results_FedCG/Random_Initialisation/fedCG/BreastCancer/fedcg_results_Breast_cancer_uniform.csv\"\n",
    "get_stats_latex(fedCG_BreastCancer_uniform)"
   ]
  },
  {
   "cell_type": "code",
   "execution_count": null,
   "metadata": {},
   "outputs": [],
   "source": [
    "cenCG_BreastCancer_uniform = \"Results_FedCG/Random_Initialisation/cenCG/BreastCancer/cencg_results_Breast_cancer_uniform.csv\"\n",
    "get_stats_latex(cenCG_BreastCancer_uniform)"
   ]
  },
  {
   "cell_type": "code",
   "execution_count": null,
   "metadata": {},
   "outputs": [],
   "source": [
    "fedCG_Wine_uniform = \"Results_FedCG/Random_Initialisation/fedCG/Wine/fedcg_results_Wine_uniform.csv\"\n",
    "get_stats_latex(fedCG_Wine_uniform)"
   ]
  },
  {
   "cell_type": "code",
   "execution_count": null,
   "metadata": {},
   "outputs": [],
   "source": [
    "cenCG_Wine_uniform = \"Results_FedCG/Random_Initialisation/cenCG/Wine/cencg_results_Wine_uniform.csv\"\n",
    "get_stats_latex(cenCG_Wine_uniform)"
   ]
  },
  {
   "cell_type": "markdown",
   "metadata": {},
   "source": [
    "### normal"
   ]
  },
  {
   "cell_type": "code",
   "execution_count": null,
   "metadata": {},
   "outputs": [],
   "source": [
    "\n",
    "fedCG_generated_normal = \"Results_FedCG/Random_Initialisation/fedCG/Generated/fedcg_results_Generated_normal.csv\"  # Replace with the actual file path\n",
    "get_stats_latex(fedCG_generated_normal)"
   ]
  },
  {
   "cell_type": "code",
   "execution_count": null,
   "metadata": {},
   "outputs": [],
   "source": [
    "cenCG_generated_normal= \"Results_FedCG/Random_Initialisation/cenCG/Generated/cencg_results_Generated_normal.csv\"\n",
    "get_stats_latex(cenCG_generated_normal)"
   ]
  },
  {
   "cell_type": "code",
   "execution_count": null,
   "metadata": {},
   "outputs": [],
   "source": [
    "fedCG_Iris_normal = \"Results_FedCG/Random_Initialisation/fedCG/Iris/fedcg_results_Iris_normal.csv\"\n",
    "get_stats_latex(fedCG_Iris_normal)"
   ]
  },
  {
   "cell_type": "code",
   "execution_count": null,
   "metadata": {},
   "outputs": [],
   "source": [
    "cenGC_Iris_normal = \"Results_FedCG/Random_Initialisation/cenCG/Iris/cencg_results_Iris_normal.csv\"\n",
    "get_stats_latex(cenGC_Iris_normal)"
   ]
  },
  {
   "cell_type": "code",
   "execution_count": null,
   "metadata": {},
   "outputs": [],
   "source": [
    "fedCG_Ionosphere_normal = \"Results_FedCG/Random_Initialisation/fedCG/Ionosphere/fedcg_results_Ionosphere_normal.csv\"\n",
    "get_stats_latex(fedCG_Ionosphere_normal)"
   ]
  },
  {
   "cell_type": "code",
   "execution_count": null,
   "metadata": {},
   "outputs": [],
   "source": [
    "cenCG_Ionosphere_normal = \"Results_FedCG/Random_Initialisation/cenCG/Ionosphere/cencg_results_Ionosphere_normal.csv\"\n",
    "get_stats_latex(cenCG_Ionosphere_normal)"
   ]
  },
  {
   "cell_type": "code",
   "execution_count": null,
   "metadata": {},
   "outputs": [],
   "source": [
    "fedCG_Sonar_normal = \"Results_FedCG/Random_Initialisation/fedCG/Sonar/fedcg_results_Sonar_normal.csv\"\n",
    "get_stats_latex(fedCG_Sonar_normal)"
   ]
  },
  {
   "cell_type": "code",
   "execution_count": null,
   "metadata": {},
   "outputs": [],
   "source": [
    "cenCG_Sonar_normal = \"Results_FedCG/Random_Initialisation/cenCG/Sonar/cencg_results_Sonar_normal.csv\"\n",
    "get_stats_latex(cenCG_Sonar_normal)"
   ]
  },
  {
   "cell_type": "code",
   "execution_count": null,
   "metadata": {},
   "outputs": [],
   "source": [
    "fedCG_BreastCancer_normal = \"Results_FedCG/Random_Initialisation/fedCG/BreastCancer/fedcg_results_Breast_cancer_normal.csv\"\n",
    "get_stats_latex(fedCG_BreastCancer_normal)"
   ]
  },
  {
   "cell_type": "code",
   "execution_count": null,
   "metadata": {},
   "outputs": [],
   "source": [
    "cenCG_BreastCancer_normal = \"Results_FedCG/Random_Initialisation/cenCG/BreastCancer/cencg_results_Breast_cancer_normal.csv\"\n",
    "get_stats_latex(cenCG_BreastCancer_normal)"
   ]
  },
  {
   "cell_type": "code",
   "execution_count": null,
   "metadata": {},
   "outputs": [],
   "source": [
    "fedCG_Wine_normal = \"Results_FedCG/Random_Initialisation/fedCG/Wine/fedcg_results_Wine_normal.csv\"\n",
    "get_stats_latex(fedCG_Wine_normal)"
   ]
  },
  {
   "cell_type": "code",
   "execution_count": null,
   "metadata": {},
   "outputs": [],
   "source": [
    "cenCG_Wine_normal = \"Results_FedCG/Random_Initialisation/cenCG/Wine/cencg_results_Wine_normal.csv\"\n",
    "get_stats_latex(cenCG_Wine_normal)"
   ]
  },
  {
   "cell_type": "code",
   "execution_count": null,
   "metadata": {},
   "outputs": [],
   "source": []
  },
  {
   "cell_type": "markdown",
   "metadata": {},
   "source": [
    "### subsampling"
   ]
  },
  {
   "cell_type": "code",
   "execution_count": null,
   "metadata": {},
   "outputs": [],
   "source": [
    "\n",
    "fedCG_generated_subsampling = \"Results_FedCG/Random_Initialisation/fedCG/Generated/fedcg_results_Generated_subsampling.csv\"  # Replace with the actual file path\n",
    "get_stats_latex(fedCG_generated_subsampling)"
   ]
  },
  {
   "cell_type": "code",
   "execution_count": null,
   "metadata": {},
   "outputs": [],
   "source": [
    "cenCG_generated_subsampling= \"Results_FedCG/Random_Initialisation/cenCG/Generated/cencg_results_Generated_subsampling.csv\"\n",
    "get_stats_latex(cenCG_generated_subsampling)"
   ]
  },
  {
   "cell_type": "code",
   "execution_count": null,
   "metadata": {},
   "outputs": [],
   "source": [
    "fedCG_Iris_subsampling = \"Results_FedCG/Random_Initialisation/fedCG/Iris/fedcg_results_Iris_subsampling.csv\"\n",
    "get_stats_latex(fedCG_Iris_subsampling)"
   ]
  },
  {
   "cell_type": "code",
   "execution_count": null,
   "metadata": {},
   "outputs": [],
   "source": [
    "cenGC_Iris_subsampling = \"Results_FedCG/Random_Initialisation/cenCG/Iris/cencg_results_Iris_subsampling.csv\"\n",
    "get_stats_latex(cenGC_Iris_subsampling)"
   ]
  },
  {
   "cell_type": "code",
   "execution_count": null,
   "metadata": {},
   "outputs": [],
   "source": [
    "fedCG_Ionosphere_subsampling = \"Results_FedCG/Random_Initialisation/fedCG/Ionosphere/fedcg_results_Ionosphere_subsampling.csv\"\n",
    "get_stats_latex(fedCG_Ionosphere_subsampling)"
   ]
  },
  {
   "cell_type": "code",
   "execution_count": null,
   "metadata": {},
   "outputs": [],
   "source": [
    "cenCG_Ionosphere_subsampling = \"Results_FedCG/Random_Initialisation/cenCG/Ionosphere/cencg_results_Ionosphere_subsampling.csv\"\n",
    "get_stats_latex(cenCG_Ionosphere_subsampling)"
   ]
  },
  {
   "cell_type": "code",
   "execution_count": null,
   "metadata": {},
   "outputs": [],
   "source": [
    "fedCG_Sonar_subsampling = \"Results_FedCG/Random_Initialisation/fedCG/Sonar/fedcg_results_Sonar_subsampling.csv\"\n",
    "get_stats_latex(fedCG_Sonar_subsampling)"
   ]
  },
  {
   "cell_type": "code",
   "execution_count": null,
   "metadata": {},
   "outputs": [],
   "source": [
    "cenCG_Sonar_subsampling = \"Results_FedCG/Random_Initialisation/cenCG/Sonar/cencg_results_Sonar_subsampling.csv\"\n",
    "get_stats_latex(cenCG_Sonar_subsampling)"
   ]
  },
  {
   "cell_type": "code",
   "execution_count": null,
   "metadata": {},
   "outputs": [],
   "source": [
    "fedCG_BreastCancer_subsampling = \"Results_FedCG/Random_Initialisation/fedCG/BreastCancer/fedcg_results_Breast_cancer_subsampling.csv\"\n",
    "get_stats_latex(fedCG_BreastCancer_subsampling)"
   ]
  },
  {
   "cell_type": "code",
   "execution_count": null,
   "metadata": {},
   "outputs": [],
   "source": [
    "cenCG_BreastCancer_subsampling = \"Results_FedCG/Random_Initialisation/cenCG/BreastCancer/cencg_results_Breast_cancer_subsampling.csv\"\n",
    "get_stats_latex(cenCG_BreastCancer_subsampling)"
   ]
  },
  {
   "cell_type": "code",
   "execution_count": null,
   "metadata": {},
   "outputs": [],
   "source": [
    "fedCG_Wine_subsampling = \"Results_FedCG/Random_Initialisation/fedCG/Wine/fedcg_results_Wine_subsampling.csv\"\n",
    "get_stats_latex(fedCG_Wine_subsampling)"
   ]
  },
  {
   "cell_type": "code",
   "execution_count": null,
   "metadata": {},
   "outputs": [],
   "source": [
    "cenCG_Wine_subsampling = \"Results_FedCG/Random_Initialisation/cenCG/Wine/cencg_results_Wine_subsampling.csv\"\n",
    "get_stats_latex(cenCG_Wine_subsampling)"
   ]
  },
  {
   "cell_type": "code",
   "execution_count": null,
   "metadata": {},
   "outputs": [],
   "source": []
  },
  {
   "cell_type": "code",
   "execution_count": null,
   "metadata": {},
   "outputs": [],
   "source": []
  },
  {
   "cell_type": "markdown",
   "metadata": {},
   "source": [
    "## Federated vs Central, changing Nystrom matrix\n",
    "Fixed initialisation. Average results for 10 simulations"
   ]
  },
  {
   "cell_type": "markdown",
   "metadata": {},
   "source": [
    "### uniform"
   ]
  },
  {
   "cell_type": "code",
   "execution_count": null,
   "metadata": {},
   "outputs": [],
   "source": [
    "\n",
    "nyst_fedCG_generated_uniform = \"Results_FedCG/Random_Nystrom_Matrix/NystFedCG/Generated/nystr_fedcg_results_Generated_uniform.csv\"\n",
    "get_stats_latex(nyst_fedCG_generated_uniform)"
   ]
  },
  {
   "cell_type": "code",
   "execution_count": null,
   "metadata": {},
   "outputs": [],
   "source": [
    "nyst_cenCG_generated_uniform = \"Results_FedCG/Random_Nystrom_Matrix/NystCenCG/Generated/nystr_cencg_results_Generated_uniform.csv\"\n",
    "get_stats_latex(nyst_cenCG_generated_uniform)"
   ]
  },
  {
   "cell_type": "code",
   "execution_count": null,
   "metadata": {},
   "outputs": [],
   "source": [
    "nyst_fedCG_iris_uniform = \"Results_FedCG/Random_Nystrom_Matrix/NystFedCG/Iris/nystr_fedcg_results_Iris_uniform.csv\"\n",
    "get_stats_latex(nyst_fedCG_iris_uniform)"
   ]
  },
  {
   "cell_type": "code",
   "execution_count": null,
   "metadata": {},
   "outputs": [],
   "source": [
    "nyst_cenCG_iris_uniform = \"Results_FedCG/Random_Nystrom_Matrix/NystCenCG/Iris/nystr_cencg_results_Iris_uniform.csv\"\n",
    "get_stats_latex(nyst_cenCG_iris_uniform)"
   ]
  },
  {
   "cell_type": "code",
   "execution_count": null,
   "metadata": {},
   "outputs": [],
   "source": [
    "nyst_fedCG_ionosphere_uniform = \"Results_FedCG/Random_Nystrom_Matrix/NystFedCG/Ionosphere/nystr_fedcg_results_Ionosphere_uniform.csv\"\n",
    "get_stats_latex(nyst_fedCG_ionosphere_uniform)"
   ]
  },
  {
   "cell_type": "code",
   "execution_count": null,
   "metadata": {},
   "outputs": [],
   "source": [
    "nyst_cenCG_ionosphere_uniform = \"Results_FedCG/Random_Nystrom_Matrix/NystCenCG/Ionosphere/nystr_cencg_results_Ionosphere_uniform.csv\"\n",
    "get_stats_latex(nyst_cenCG_ionosphere_uniform)"
   ]
  },
  {
   "cell_type": "code",
   "execution_count": null,
   "metadata": {},
   "outputs": [],
   "source": [
    "nyst_fedCG_sonar_uniform = \"Results_FedCG/Random_Nystrom_Matrix/NystFedCG/Sonar/nystr_fedcg_results_Sonar_uniform.csv\"\n",
    "get_stats_latex(nyst_fedCG_sonar_uniform)"
   ]
  },
  {
   "cell_type": "code",
   "execution_count": null,
   "metadata": {},
   "outputs": [],
   "source": [
    "nyst_cenCG_sonar_uniform = \"Results_FedCG/Random_Nystrom_Matrix/NystCenCG/Sonar/nystr_cencg_results_Sonar_uniform.csv\"\n",
    "get_stats_latex(nyst_cenCG_sonar_uniform)"
   ]
  },
  {
   "cell_type": "code",
   "execution_count": null,
   "metadata": {},
   "outputs": [],
   "source": [
    "nyst_fedCG_BreastCancer_uniform = \"Results_FedCG/Random_Nystrom_Matrix/NystFedCG/BreastCancer/nystr_fedcg_results_BreastCancer_uniform.csv\"\n",
    "get_stats_latex(nyst_fedCG_BreastCancer_uniform)"
   ]
  },
  {
   "cell_type": "code",
   "execution_count": null,
   "metadata": {},
   "outputs": [],
   "source": [
    "nyst_cenCG_BreastCancer_uniform = \"Results_FedCG/Random_Nystrom_Matrix/NystCenCG/BreastCancer/nystr_cencg_results_BreastCancer_uniform.csv\"\n",
    "get_stats_latex(nyst_cenCG_BreastCancer_uniform)"
   ]
  },
  {
   "cell_type": "code",
   "execution_count": null,
   "metadata": {},
   "outputs": [],
   "source": [
    "nyst_fedCG_Wine_uniform = \"Results_FedCG/Random_Nystrom_Matrix/NystFedCG/Wine/nystr_fedcg_results_Wine_uniform.csv\"\n",
    "get_stats_latex(nyst_fedCG_Wine_uniform)"
   ]
  },
  {
   "cell_type": "code",
   "execution_count": null,
   "metadata": {},
   "outputs": [],
   "source": [
    "nyst_cenCG_Wine_uniform = \"Results_FedCG/Random_Nystrom_Matrix/NystCenCG/Wine/nystr_cencg_results_Wine_uniform.csv\"\n",
    "get_stats_latex(nyst_cenCG_Wine_uniform)"
   ]
  },
  {
   "cell_type": "markdown",
   "metadata": {},
   "source": [
    "### normal"
   ]
  },
  {
   "cell_type": "code",
   "execution_count": null,
   "metadata": {},
   "outputs": [],
   "source": [
    "\n",
    "nyst_fedCG_generated_normal = \"Results_FedCG/Random_Nystrom_Matrix/NystFedCG/Generated/nystr_fedcg_results_Generated_normal.csv\"\n",
    "get_stats_latex(nyst_fedCG_generated_normal)"
   ]
  },
  {
   "cell_type": "code",
   "execution_count": null,
   "metadata": {},
   "outputs": [],
   "source": [
    "nyst_cenCG_generated_normal = \"Results_FedCG/Random_Nystrom_Matrix/NystCenCG/Generated/nystr_cencg_results_Generated_normal.csv\"\n",
    "get_stats_latex(nyst_cenCG_generated_normal)"
   ]
  },
  {
   "cell_type": "code",
   "execution_count": null,
   "metadata": {},
   "outputs": [],
   "source": [
    "nyst_fedCG_iris_normal= \"Results_FedCG/Random_Nystrom_Matrix/NystFedCG/Iris/nystr_fedcg_results_Iris_normal.csv\"\n",
    "get_stats_latex(nyst_fedCG_iris_normal)"
   ]
  },
  {
   "cell_type": "code",
   "execution_count": null,
   "metadata": {},
   "outputs": [],
   "source": [
    "nyst_cenCG_iris_normal = \"Results_FedCG/Random_Nystrom_Matrix/NystCenCG/Iris/nystr_cencg_results_Iris_normal.csv\"\n",
    "get_stats_latex(nyst_cenCG_iris_normal)"
   ]
  },
  {
   "cell_type": "code",
   "execution_count": null,
   "metadata": {},
   "outputs": [],
   "source": [
    "nyst_fedCG_ionosphere_normal = \"Results_FedCG/Random_Nystrom_Matrix/NystFedCG/Ionosphere/nystr_fedcg_results_Ionosphere_normal.csv\"\n",
    "get_stats_latex(nyst_fedCG_ionosphere_normal)"
   ]
  },
  {
   "cell_type": "code",
   "execution_count": null,
   "metadata": {},
   "outputs": [],
   "source": [
    "nyst_cenCG_ionosphere_normal = \"Results_FedCG/Random_Nystrom_Matrix/NystCenCG/Ionosphere/nystr_cencg_results_Ionosphere_normal.csv\"\n",
    "get_stats_latex(nyst_cenCG_ionosphere_normal)"
   ]
  },
  {
   "cell_type": "code",
   "execution_count": null,
   "metadata": {},
   "outputs": [],
   "source": [
    "nyst_fedCG_sonar_normal = \"Results_FedCG/Random_Nystrom_Matrix/NystFedCG/Sonar/nystr_fedcg_results_Sonar_normal.csv\"\n",
    "get_stats_latex(nyst_fedCG_sonar_normal)"
   ]
  },
  {
   "cell_type": "code",
   "execution_count": null,
   "metadata": {},
   "outputs": [],
   "source": [
    "nyst_cenCG_sonar_normal = \"Results_FedCG/Random_Nystrom_Matrix/NystCenCG/Sonar/nystr_cencg_results_Sonar_normal.csv\"\n",
    "get_stats_latex(nyst_cenCG_sonar_normal)"
   ]
  },
  {
   "cell_type": "code",
   "execution_count": null,
   "metadata": {},
   "outputs": [],
   "source": [
    "nyst_fedCG_BreastCancer_normal = \"Results_FedCG/Random_Nystrom_Matrix/NystFedCG/BreastCancer/nystr_fedcg_results_BreastCancer_normal.csv\"\n",
    "get_stats_latex(nyst_fedCG_BreastCancer_normal)"
   ]
  },
  {
   "cell_type": "code",
   "execution_count": null,
   "metadata": {},
   "outputs": [],
   "source": [
    "nyst_cenCG_BreastCancer_normal = \"Results_FedCG/Random_Nystrom_Matrix/NystCenCG/BreastCancer/nystr_cencg_results_BreastCancer_normal.csv\"\n",
    "get_stats_latex(nyst_cenCG_BreastCancer_normal)"
   ]
  },
  {
   "cell_type": "code",
   "execution_count": null,
   "metadata": {},
   "outputs": [],
   "source": [
    "nyst_fedCG_Wine_normal = \"Results_FedCG/Random_Nystrom_Matrix/NystFedCG/Wine/nystr_fedcg_results_Wine_normal.csv\"\n",
    "get_stats_latex(nyst_fedCG_Wine_normal)"
   ]
  },
  {
   "cell_type": "code",
   "execution_count": null,
   "metadata": {},
   "outputs": [],
   "source": [
    "nyst_cenCG_Wine_normal = \"Results_FedCG/Random_Nystrom_Matrix/NystCenCG/Wine/nystr_cencg_results_Wine_normal.csv\"\n",
    "get_stats_latex(nyst_cenCG_Wine_normal)"
   ]
  },
  {
   "cell_type": "code",
   "execution_count": null,
   "metadata": {},
   "outputs": [],
   "source": []
  },
  {
   "cell_type": "markdown",
   "metadata": {},
   "source": [
    "### subsampling"
   ]
  },
  {
   "cell_type": "code",
   "execution_count": null,
   "metadata": {},
   "outputs": [],
   "source": [
    "\n",
    "nyst_fedCG_generated_subsampling = \"Results_FedCG/Random_Nystrom_Matrix/NystFedCG/Generated/nystr_fedcg_results_Generated_subsampling.csv\"\n",
    "get_stats_latex(nyst_fedCG_generated_subsampling)"
   ]
  },
  {
   "cell_type": "code",
   "execution_count": null,
   "metadata": {},
   "outputs": [],
   "source": [
    "nyst_cenCG_generated_subsampling = \"Results_FedCG/Random_Nystrom_Matrix/NystCenCG/Generated/nystr_cencg_results_Generated_subsampling.csv\"\n",
    "get_stats_latex(nyst_cenCG_generated_subsampling)"
   ]
  },
  {
   "cell_type": "code",
   "execution_count": null,
   "metadata": {},
   "outputs": [],
   "source": [
    "nyst_fedCG_iris_subsampling= \"Results_FedCG/Random_Nystrom_Matrix/NystFedCG/Iris/nystr_fedcg_results_Iris_subsampling.csv\"\n",
    "get_stats_latex(nyst_fedCG_iris_subsampling)"
   ]
  },
  {
   "cell_type": "code",
   "execution_count": null,
   "metadata": {},
   "outputs": [],
   "source": [
    "nyst_cenCG_iris_subsampling = \"Results_FedCG/Random_Nystrom_Matrix/NystCenCG/Iris/nystr_cencg_results_Iris_subsampling.csv\"\n",
    "get_stats_latex(nyst_cenCG_iris_subsampling)"
   ]
  },
  {
   "cell_type": "code",
   "execution_count": null,
   "metadata": {},
   "outputs": [],
   "source": [
    "nyst_fedCG_ionosphere_subsampling = \"Results_FedCG/Random_Nystrom_Matrix/NystFedCG/Ionosphere/nystr_fedcg_results_Ionosphere_subsampling.csv\"\n",
    "get_stats_latex(nyst_fedCG_ionosphere_subsampling)"
   ]
  },
  {
   "cell_type": "code",
   "execution_count": null,
   "metadata": {},
   "outputs": [],
   "source": [
    "nyst_cenCG_ionosphere_subsampling = \"Results_FedCG/Random_Nystrom_Matrix/NystCenCG/Ionosphere/nystr_cencg_results_Ionosphere_subsampling.csv\"\n",
    "get_stats_latex(nyst_cenCG_ionosphere_subsampling)"
   ]
  },
  {
   "cell_type": "code",
   "execution_count": null,
   "metadata": {},
   "outputs": [],
   "source": [
    "nyst_fedCG_sonar_subsampling = \"Results_FedCG/Random_Nystrom_Matrix/NystFedCG/Sonar/nystr_fedcg_results_Sonar_subsampling.csv\"\n",
    "get_stats_latex(nyst_fedCG_sonar_subsampling)"
   ]
  },
  {
   "cell_type": "code",
   "execution_count": null,
   "metadata": {},
   "outputs": [],
   "source": [
    "nyst_cenCG_sonar_subsampling = \"Results_FedCG/Random_Nystrom_Matrix/NystCenCG/Sonar/nystr_cencg_results_Sonar_subsampling.csv\"\n",
    "get_stats_latex(nyst_cenCG_sonar_subsampling)"
   ]
  },
  {
   "cell_type": "code",
   "execution_count": null,
   "metadata": {},
   "outputs": [],
   "source": [
    "nyst_fedCG_BreastCancer_subsampling = \"Results_FedCG/Random_Nystrom_Matrix/NystFedCG/BreastCancer/nystr_fedcg_results_BreastCancer_subsampling.csv\"\n",
    "get_stats_latex(nyst_fedCG_BreastCancer_subsampling)"
   ]
  },
  {
   "cell_type": "code",
   "execution_count": null,
   "metadata": {},
   "outputs": [],
   "source": [
    "nyst_cenCG_BreastCancer_subsampling = \"Results_FedCG/Random_Nystrom_Matrix/NystCenCG/BreastCancer/nystr_cencg_results_BreastCancer_subsampling.csv\"\n",
    "get_stats_latex(nyst_cenCG_BreastCancer_subsampling)"
   ]
  },
  {
   "cell_type": "code",
   "execution_count": null,
   "metadata": {},
   "outputs": [],
   "source": [
    "nyst_fedCG_Wine_subsampling = \"Results_FedCG/Random_Nystrom_Matrix/NystFedCG/Wine/nystr_fedcg_results_Wine_subsampling.csv\"\n",
    "get_stats_latex(nyst_fedCG_Wine_subsampling)"
   ]
  },
  {
   "cell_type": "code",
   "execution_count": null,
   "metadata": {},
   "outputs": [],
   "source": [
    "nyst_cenCG_Wine_subsampling = \"Results_FedCG/Random_Nystrom_Matrix/NystCenCG/Wine/nystr_cencg_results_Wine_subsampling.csv\"\n",
    "get_stats_latex(nyst_cenCG_Wine_subsampling)"
   ]
  },
  {
   "cell_type": "code",
   "execution_count": null,
   "metadata": {},
   "outputs": [],
   "source": []
  },
  {
   "cell_type": "code",
   "execution_count": null,
   "metadata": {},
   "outputs": [],
   "source": []
  },
  {
   "cell_type": "code",
   "execution_count": null,
   "metadata": {},
   "outputs": [],
   "source": []
  },
  {
   "cell_type": "code",
   "execution_count": null,
   "metadata": {},
   "outputs": [],
   "source": []
  },
  {
   "cell_type": "code",
   "execution_count": null,
   "metadata": {},
   "outputs": [],
   "source": []
  },
  {
   "cell_type": "code",
   "execution_count": null,
   "metadata": {},
   "outputs": [],
   "source": []
  },
  {
   "cell_type": "code",
   "execution_count": null,
   "metadata": {},
   "outputs": [],
   "source": []
  },
  {
   "cell_type": "code",
   "execution_count": null,
   "metadata": {},
   "outputs": [],
   "source": []
  },
  {
   "cell_type": "markdown",
   "metadata": {},
   "source": [
    "# Model selection surface"
   ]
  },
  {
   "cell_type": "markdown",
   "metadata": {},
   "source": [
    "## Nystrom method uniform"
   ]
  },
  {
   "cell_type": "code",
   "execution_count": 3,
   "metadata": {},
   "outputs": [],
   "source": [
    "kernel_params = Kernel(kernel_type=1, kernel_sigma = 1, poly_degree = None, binary = None) \n",
    "Nb = 10             # number of  hospitals\n",
    "toll = 1e-3      # tolerance value - a 1e-3 per tutti meno sonar e ionosphere\n",
    "nyst_method = 'uniform'  # Method for Nystrom landmarks generation\n",
    "nyst_points = 50\n"
   ]
  },
  {
   "cell_type": "code",
   "execution_count": 4,
   "metadata": {},
   "outputs": [],
   "source": [
    "#Chose the dataset and nystrom method\n",
    "# \n",
    "[X_train, y_train, X_test, y_test]=load_ionosphere_dataset( nystr_pt=nyst_points, nystr_method='uniform')[:-1]\n",
    "\n",
    "\n",
    "# Define the range of Nystrom landmarks and lambda\n",
    "nystrom_landmarks_range = range(1, len(X_train),5) \n",
    "min_lambda, max_lambda = -9, 0\n",
    "lambda_range = np.logspace(min_lambda, max_lambda, num=50)\n",
    "\n",
    "# print(\"Nystrom landmarks range: \", list(nystrom_landmarks_range))\n",
    "# print(\"Lambda values: \", lambda_values)\n",
    "# Set other parameters\n",
    "num_runs = 5  # Number of Monte Carlo simulations\n",
    "Nb = 10  # Number of clients/hospitals for federated learning\n"
   ]
  },
  {
   "cell_type": "code",
   "execution_count": 6,
   "metadata": {},
   "outputs": [
    {
     "name": "stderr",
     "output_type": "stream",
     "text": [
      "Running Simulation:   0%|                                       | 9/14000 [00:14<6:18:02,  1.62s/it]\n"
     ]
    },
    {
     "ename": "KeyboardInterrupt",
     "evalue": "",
     "output_type": "error",
     "traceback": [
      "\u001b[0;31m---------------------------------------------------------------------------\u001b[0m",
      "\u001b[0;31mKeyboardInterrupt\u001b[0m                         Traceback (most recent call last)",
      "Cell \u001b[0;32mIn[6], line 2\u001b[0m\n\u001b[1;32m      1\u001b[0m \u001b[38;5;66;03m# Run the simulation\u001b[39;00m\n\u001b[0;32m----> 2\u001b[0m \u001b[43mnys_simulation_surface\u001b[49m\u001b[43m(\u001b[49m\n\u001b[1;32m      3\u001b[0m \u001b[43m    \u001b[49m\u001b[43mdataset_name\u001b[49m\u001b[38;5;241;43m=\u001b[39;49m\u001b[38;5;124;43m\"\u001b[39;49m\u001b[38;5;124;43mIonosphere\u001b[39;49m\u001b[38;5;124;43m\"\u001b[39;49m\u001b[43m,\u001b[49m\n\u001b[1;32m      4\u001b[0m \u001b[43m    \u001b[49m\u001b[43mnum_runs\u001b[49m\u001b[38;5;241;43m=\u001b[39;49m\u001b[43mnum_runs\u001b[49m\u001b[43m,\u001b[49m\n\u001b[1;32m      5\u001b[0m \u001b[43m    \u001b[49m\u001b[43mX_train\u001b[49m\u001b[38;5;241;43m=\u001b[39;49m\u001b[43mX_train\u001b[49m\u001b[43m,\u001b[49m\n\u001b[1;32m      6\u001b[0m \u001b[43m    \u001b[49m\u001b[43my_train\u001b[49m\u001b[38;5;241;43m=\u001b[39;49m\u001b[43my_train\u001b[49m\u001b[43m,\u001b[49m\n\u001b[1;32m      7\u001b[0m \u001b[43m    \u001b[49m\u001b[43mX_test\u001b[49m\u001b[38;5;241;43m=\u001b[39;49m\u001b[43mX_test\u001b[49m\u001b[43m,\u001b[49m\n\u001b[1;32m      8\u001b[0m \u001b[43m    \u001b[49m\u001b[43my_test\u001b[49m\u001b[38;5;241;43m=\u001b[39;49m\u001b[43my_test\u001b[49m\u001b[43m,\u001b[49m\n\u001b[1;32m      9\u001b[0m \u001b[43m    \u001b[49m\u001b[43mnyst_method\u001b[49m\u001b[38;5;241;43m=\u001b[39;49m\u001b[43mnyst_method\u001b[49m\u001b[43m,\u001b[49m\n\u001b[1;32m     10\u001b[0m \u001b[43m    \u001b[49m\u001b[43mkernel_params\u001b[49m\u001b[38;5;241;43m=\u001b[39;49m\u001b[43mkernel_params\u001b[49m\u001b[43m,\u001b[49m\n\u001b[1;32m     11\u001b[0m \u001b[43m    \u001b[49m\u001b[43mnystrom_landmarks_range\u001b[49m\u001b[38;5;241;43m=\u001b[39;49m\u001b[43mnystrom_landmarks_range\u001b[49m\u001b[43m,\u001b[49m\n\u001b[1;32m     12\u001b[0m \u001b[43m    \u001b[49m\u001b[43mlambda_range\u001b[49m\u001b[38;5;241;43m=\u001b[39;49m\u001b[43mlambda_range\u001b[49m\u001b[43m,\u001b[49m\n\u001b[1;32m     13\u001b[0m \u001b[43m    \u001b[49m\u001b[43mNb\u001b[49m\u001b[38;5;241;43m=\u001b[39;49m\u001b[43mNb\u001b[49m\u001b[43m,\u001b[49m\n\u001b[1;32m     14\u001b[0m \u001b[43m    \u001b[49m\u001b[43mtoll\u001b[49m\u001b[38;5;241;43m=\u001b[39;49m\u001b[43mtoll\u001b[49m\n\u001b[1;32m     15\u001b[0m \u001b[43m)\u001b[49m\n",
      "File \u001b[0;32m~/MISE_project/hybrid-fed-krls/py_scripts/simulation.py:280\u001b[0m, in \u001b[0;36mnys_simulation_surface\u001b[0;34m(dataset_name, num_runs, X_train, y_train, X_test, y_test, nyst_method, kernel_params, nystrom_landmarks_range, lambda_range, Nb, toll)\u001b[0m\n\u001b[1;32m    277\u001b[0m     W \u001b[38;5;241m=\u001b[39m load_wine_dataset(seed\u001b[38;5;241m=\u001b[39mseedrun, nystr_pt\u001b[38;5;241m=\u001b[39mnyst_points, nystr_method\u001b[38;5;241m=\u001b[39mnyst_method)[\u001b[38;5;241m-\u001b[39m\u001b[38;5;241m1\u001b[39m]\n\u001b[1;32m    279\u001b[0m \u001b[38;5;66;03m# Federated run\u001b[39;00m\n\u001b[0;32m--> 280\u001b[0m _, _, fedcg_test_accuracy, _, _ \u001b[38;5;241m=\u001b[39m \u001b[43mfedcg_model\u001b[49m\u001b[38;5;241;43m.\u001b[39;49m\u001b[43mfit\u001b[49m\u001b[43m(\u001b[49m\u001b[43mX_train\u001b[49m\u001b[43m,\u001b[49m\u001b[43m \u001b[49m\u001b[43my_train\u001b[49m\u001b[43m,\u001b[49m\u001b[43m \u001b[49m\u001b[43mX_test\u001b[49m\u001b[43m,\u001b[49m\u001b[43m \u001b[49m\u001b[43my_test\u001b[49m\u001b[43m,\u001b[49m\u001b[43m \u001b[49m\u001b[43mW\u001b[49m\u001b[38;5;241;43m=\u001b[39;49m\u001b[43mW\u001b[49m\u001b[43m,\u001b[49m\u001b[43m \u001b[49m\u001b[43malpha_init\u001b[49m\u001b[38;5;241;43m=\u001b[39;49m\u001b[43malpha_init\u001b[49m\u001b[43m,\u001b[49m\u001b[43m \u001b[49m\u001b[43msilent\u001b[49m\u001b[38;5;241;43m=\u001b[39;49m\u001b[38;5;28;43;01mTrue\u001b[39;49;00m\u001b[43m)\u001b[49m\n\u001b[1;32m    281\u001b[0m fedcg_accuracies\u001b[38;5;241m.\u001b[39mappend(fedcg_test_accuracy)\n\u001b[1;32m    283\u001b[0m \u001b[38;5;66;03m# Centralized run\u001b[39;00m\n",
      "File \u001b[0;32m~/MISE_project/hybrid-fed-krls/./py_scripts/federated_functions.py:440\u001b[0m, in \u001b[0;36mFedCG.fit\u001b[0;34m(self, X_train, y_train, X_test, y_test, W, alpha_init, silent)\u001b[0m\n\u001b[1;32m    437\u001b[0m \u001b[38;5;28;01melse\u001b[39;00m:\n\u001b[1;32m    438\u001b[0m     \u001b[38;5;28;01mraise\u001b[39;00m \u001b[38;5;167;01mValueError\u001b[39;00m(\u001b[38;5;124m\"\u001b[39m\u001b[38;5;124mW must be provided for this method.\u001b[39m\u001b[38;5;124m\"\u001b[39m)\n\u001b[0;32m--> 440\u001b[0m \u001b[38;5;28mself\u001b[39m\u001b[38;5;241m.\u001b[39mlocalResidue, \u001b[38;5;28mself\u001b[39m\u001b[38;5;241m.\u001b[39mcentral_test_accuracy, \u001b[38;5;28mself\u001b[39m\u001b[38;5;241m.\u001b[39mtest_accuracy, \u001b[38;5;28mself\u001b[39m\u001b[38;5;241m.\u001b[39melapsed, \u001b[38;5;28mself\u001b[39m\u001b[38;5;241m.\u001b[39malpha \u001b[38;5;241m=\u001b[39m \u001b[38;5;28;43mself\u001b[39;49m\u001b[38;5;241;43m.\u001b[39;49m\u001b[43msimulated_federated_cycles\u001b[49m\u001b[43m(\u001b[49m\u001b[43mX_train\u001b[49m\u001b[43m,\u001b[49m\u001b[43m \u001b[49m\u001b[43my_train\u001b[49m\u001b[43m,\u001b[49m\u001b[43m \u001b[49m\u001b[43mX_test\u001b[49m\u001b[43m,\u001b[49m\u001b[43m \u001b[49m\u001b[43my_test\u001b[49m\u001b[43m,\u001b[49m\u001b[43m \u001b[49m\u001b[43malpha_init\u001b[49m\u001b[38;5;241;43m=\u001b[39;49m\u001b[43malpha_init\u001b[49m\u001b[43m,\u001b[49m\u001b[43m \u001b[49m\u001b[43msilent\u001b[49m\u001b[38;5;241;43m=\u001b[39;49m\u001b[43msilent\u001b[49m\u001b[43m)\u001b[49m\n\u001b[1;32m    441\u001b[0m \u001b[38;5;28;01mreturn\u001b[39;00m \u001b[38;5;28mself\u001b[39m\u001b[38;5;241m.\u001b[39mlocalResidue, \u001b[38;5;28mself\u001b[39m\u001b[38;5;241m.\u001b[39mcentral_test_accuracy, \u001b[38;5;28mself\u001b[39m\u001b[38;5;241m.\u001b[39mtest_accuracy, \u001b[38;5;28mself\u001b[39m\u001b[38;5;241m.\u001b[39melapsed, \u001b[38;5;28mself\u001b[39m\u001b[38;5;241m.\u001b[39malpha\n",
      "File \u001b[0;32m~/MISE_project/hybrid-fed-krls/./py_scripts/federated_functions.py:129\u001b[0m, in \u001b[0;36mFedCG.simulated_federated_cycles\u001b[0;34m(self, X, y, Xt, yt, alpha_init, silent)\u001b[0m\n\u001b[1;32m    127\u001b[0m \u001b[38;5;66;03m#cycle on the features\u001b[39;00m\n\u001b[1;32m    128\u001b[0m \u001b[38;5;28;01mfor\u001b[39;00m iff \u001b[38;5;129;01min\u001b[39;00m \u001b[38;5;28mrange\u001b[39m(ni,\u001b[38;5;241m0\u001b[39m,\u001b[38;5;241m-\u001b[39m \u001b[38;5;241m1\u001b[39m):\n\u001b[0;32m--> 129\u001b[0m     Ki \u001b[38;5;241m=\u001b[39m \u001b[43mkernel_params\u001b[49m\u001b[38;5;241;43m.\u001b[39;49m\u001b[43mbuild_kernel\u001b[49m\u001b[43m(\u001b[49m\u001b[43mXb\u001b[49m\u001b[43m[\u001b[49m\u001b[43m:\u001b[49m\u001b[43m,\u001b[49m\u001b[43m \u001b[49m\u001b[43miff\u001b[49m\u001b[43m \u001b[49m\u001b[38;5;241;43m-\u001b[39;49m\u001b[43m \u001b[49m\u001b[38;5;241;43m1\u001b[39;49m\u001b[43m:\u001b[49m\u001b[43miff\u001b[49m\u001b[43m]\u001b[49m\u001b[43m,\u001b[49m\u001b[43m \u001b[49m\u001b[43mW\u001b[49m\u001b[43m[\u001b[49m\u001b[43m:\u001b[49m\u001b[43m,\u001b[49m\u001b[43m \u001b[49m\u001b[43miff\u001b[49m\u001b[43m \u001b[49m\u001b[38;5;241;43m-\u001b[39;49m\u001b[43m \u001b[49m\u001b[38;5;241;43m1\u001b[39;49m\u001b[43m:\u001b[49m\u001b[43miff\u001b[49m\u001b[43m]\u001b[49m\u001b[43m)\u001b[49m\n\u001b[1;32m    132\u001b[0m     \u001b[38;5;28;01mif\u001b[39;00m (iff \u001b[38;5;241m==\u001b[39m ni):\n\u001b[1;32m    133\u001b[0m         noise_removal \u001b[38;5;241m=\u001b[39m np\u001b[38;5;241m.\u001b[39mmatmul(Ki\u001b[38;5;241m.\u001b[39mT,np\u001b[38;5;241m.\u001b[39mdiag(eta[start:final]))\n",
      "File \u001b[0;32m~/MISE_project/hybrid-fed-krls/py_scripts/kernel.py:52\u001b[0m, in \u001b[0;36mKernel.build_kernel\u001b[0;34m(self, X1, X2)\u001b[0m\n\u001b[1;32m     50\u001b[0m \u001b[38;5;28;01melif\u001b[39;00m \u001b[38;5;28mself\u001b[39m\u001b[38;5;241m.\u001b[39mtype \u001b[38;5;241m==\u001b[39m \u001b[38;5;241m1\u001b[39m:  \u001b[38;5;66;03m# RBF kernel\u001b[39;00m\n\u001b[1;32m     51\u001b[0m     \u001b[38;5;28;01mif\u001b[39;00m X2 \u001b[38;5;129;01mis\u001b[39;00m \u001b[38;5;129;01mnot\u001b[39;00m \u001b[38;5;28;01mNone\u001b[39;00m:\n\u001b[0;32m---> 52\u001b[0m         K \u001b[38;5;241m=\u001b[39m \u001b[43mrbf_kernel\u001b[49m\u001b[43m(\u001b[49m\u001b[43mX1\u001b[49m\u001b[43m,\u001b[49m\u001b[43m \u001b[49m\u001b[43mX2\u001b[49m\u001b[43m,\u001b[49m\u001b[43m \u001b[49m\u001b[43mgamma\u001b[49m\u001b[38;5;241;43m=\u001b[39;49m\u001b[38;5;241;43m1.0\u001b[39;49m\u001b[43m \u001b[49m\u001b[38;5;241;43m/\u001b[39;49m\u001b[43m \u001b[49m\u001b[43m(\u001b[49m\u001b[38;5;241;43m2\u001b[39;49m\u001b[43m \u001b[49m\u001b[38;5;241;43m*\u001b[39;49m\u001b[43m \u001b[49m\u001b[38;5;28;43mself\u001b[39;49m\u001b[38;5;241;43m.\u001b[39;49m\u001b[43msigma\u001b[49m\u001b[38;5;241;43m*\u001b[39;49m\u001b[38;5;241;43m*\u001b[39;49m\u001b[38;5;241;43m2\u001b[39;49m\u001b[43m)\u001b[49m\u001b[43m)\u001b[49m\n\u001b[1;32m     53\u001b[0m     \u001b[38;5;28;01melse\u001b[39;00m:\n\u001b[1;32m     54\u001b[0m         K \u001b[38;5;241m=\u001b[39m rbf_kernel(X1, X1, gamma\u001b[38;5;241m=\u001b[39m\u001b[38;5;241m1.0\u001b[39m \u001b[38;5;241m/\u001b[39m (\u001b[38;5;241m2\u001b[39m \u001b[38;5;241m*\u001b[39m \u001b[38;5;28mself\u001b[39m\u001b[38;5;241m.\u001b[39msigma\u001b[38;5;241m*\u001b[39m\u001b[38;5;241m*\u001b[39m\u001b[38;5;241m2\u001b[39m))\n",
      "File \u001b[0;32m~/MISE_project/hybrid-fed-krls/venv/lib/python3.10/site-packages/sklearn/metrics/pairwise.py:1314\u001b[0m, in \u001b[0;36mrbf_kernel\u001b[0;34m(X, Y, gamma)\u001b[0m\n\u001b[1;32m   1311\u001b[0m \u001b[38;5;28;01mif\u001b[39;00m gamma \u001b[38;5;129;01mis\u001b[39;00m \u001b[38;5;28;01mNone\u001b[39;00m:\n\u001b[1;32m   1312\u001b[0m     gamma \u001b[38;5;241m=\u001b[39m \u001b[38;5;241m1.0\u001b[39m \u001b[38;5;241m/\u001b[39m X\u001b[38;5;241m.\u001b[39mshape[\u001b[38;5;241m1\u001b[39m]\n\u001b[0;32m-> 1314\u001b[0m K \u001b[38;5;241m=\u001b[39m \u001b[43meuclidean_distances\u001b[49m\u001b[43m(\u001b[49m\u001b[43mX\u001b[49m\u001b[43m,\u001b[49m\u001b[43m \u001b[49m\u001b[43mY\u001b[49m\u001b[43m,\u001b[49m\u001b[43m \u001b[49m\u001b[43msquared\u001b[49m\u001b[38;5;241;43m=\u001b[39;49m\u001b[38;5;28;43;01mTrue\u001b[39;49;00m\u001b[43m)\u001b[49m\n\u001b[1;32m   1315\u001b[0m K \u001b[38;5;241m*\u001b[39m\u001b[38;5;241m=\u001b[39m \u001b[38;5;241m-\u001b[39mgamma\n\u001b[1;32m   1316\u001b[0m np\u001b[38;5;241m.\u001b[39mexp(K, K)  \u001b[38;5;66;03m# exponentiate K in-place\u001b[39;00m\n",
      "File \u001b[0;32m~/MISE_project/hybrid-fed-krls/venv/lib/python3.10/site-packages/sklearn/metrics/pairwise.py:300\u001b[0m, in \u001b[0;36meuclidean_distances\u001b[0;34m(X, Y, Y_norm_squared, squared, X_norm_squared)\u001b[0m\n\u001b[1;32m    224\u001b[0m \u001b[38;5;28;01mdef\u001b[39;00m \u001b[38;5;21meuclidean_distances\u001b[39m(\n\u001b[1;32m    225\u001b[0m     X, Y\u001b[38;5;241m=\u001b[39m\u001b[38;5;28;01mNone\u001b[39;00m, \u001b[38;5;241m*\u001b[39m, Y_norm_squared\u001b[38;5;241m=\u001b[39m\u001b[38;5;28;01mNone\u001b[39;00m, squared\u001b[38;5;241m=\u001b[39m\u001b[38;5;28;01mFalse\u001b[39;00m, X_norm_squared\u001b[38;5;241m=\u001b[39m\u001b[38;5;28;01mNone\u001b[39;00m\n\u001b[1;32m    226\u001b[0m ):\n\u001b[1;32m    227\u001b[0m \u001b[38;5;250m    \u001b[39m\u001b[38;5;124;03m\"\"\"\u001b[39;00m\n\u001b[1;32m    228\u001b[0m \u001b[38;5;124;03m    Compute the distance matrix between each pair from a vector array X and Y.\u001b[39;00m\n\u001b[1;32m    229\u001b[0m \n\u001b[0;32m   (...)\u001b[0m\n\u001b[1;32m    298\u001b[0m \u001b[38;5;124;03m           [1.41421356]])\u001b[39;00m\n\u001b[1;32m    299\u001b[0m \u001b[38;5;124;03m    \"\"\"\u001b[39;00m\n\u001b[0;32m--> 300\u001b[0m     X, Y \u001b[38;5;241m=\u001b[39m \u001b[43mcheck_pairwise_arrays\u001b[49m\u001b[43m(\u001b[49m\u001b[43mX\u001b[49m\u001b[43m,\u001b[49m\u001b[43m \u001b[49m\u001b[43mY\u001b[49m\u001b[43m)\u001b[49m\n\u001b[1;32m    302\u001b[0m     \u001b[38;5;28;01mif\u001b[39;00m X_norm_squared \u001b[38;5;129;01mis\u001b[39;00m \u001b[38;5;129;01mnot\u001b[39;00m \u001b[38;5;28;01mNone\u001b[39;00m:\n\u001b[1;32m    303\u001b[0m         X_norm_squared \u001b[38;5;241m=\u001b[39m check_array(X_norm_squared, ensure_2d\u001b[38;5;241m=\u001b[39m\u001b[38;5;28;01mFalse\u001b[39;00m)\n",
      "File \u001b[0;32m~/MISE_project/hybrid-fed-krls/venv/lib/python3.10/site-packages/sklearn/metrics/pairwise.py:155\u001b[0m, in \u001b[0;36mcheck_pairwise_arrays\u001b[0;34m(X, Y, precomputed, dtype, accept_sparse, force_all_finite, copy)\u001b[0m\n\u001b[1;32m    146\u001b[0m     X \u001b[38;5;241m=\u001b[39m Y \u001b[38;5;241m=\u001b[39m check_array(\n\u001b[1;32m    147\u001b[0m         X,\n\u001b[1;32m    148\u001b[0m         accept_sparse\u001b[38;5;241m=\u001b[39maccept_sparse,\n\u001b[0;32m   (...)\u001b[0m\n\u001b[1;32m    152\u001b[0m         estimator\u001b[38;5;241m=\u001b[39mestimator,\n\u001b[1;32m    153\u001b[0m     )\n\u001b[1;32m    154\u001b[0m \u001b[38;5;28;01melse\u001b[39;00m:\n\u001b[0;32m--> 155\u001b[0m     X \u001b[38;5;241m=\u001b[39m \u001b[43mcheck_array\u001b[49m\u001b[43m(\u001b[49m\n\u001b[1;32m    156\u001b[0m \u001b[43m        \u001b[49m\u001b[43mX\u001b[49m\u001b[43m,\u001b[49m\n\u001b[1;32m    157\u001b[0m \u001b[43m        \u001b[49m\u001b[43maccept_sparse\u001b[49m\u001b[38;5;241;43m=\u001b[39;49m\u001b[43maccept_sparse\u001b[49m\u001b[43m,\u001b[49m\n\u001b[1;32m    158\u001b[0m \u001b[43m        \u001b[49m\u001b[43mdtype\u001b[49m\u001b[38;5;241;43m=\u001b[39;49m\u001b[43mdtype\u001b[49m\u001b[43m,\u001b[49m\n\u001b[1;32m    159\u001b[0m \u001b[43m        \u001b[49m\u001b[43mcopy\u001b[49m\u001b[38;5;241;43m=\u001b[39;49m\u001b[43mcopy\u001b[49m\u001b[43m,\u001b[49m\n\u001b[1;32m    160\u001b[0m \u001b[43m        \u001b[49m\u001b[43mforce_all_finite\u001b[49m\u001b[38;5;241;43m=\u001b[39;49m\u001b[43mforce_all_finite\u001b[49m\u001b[43m,\u001b[49m\n\u001b[1;32m    161\u001b[0m \u001b[43m        \u001b[49m\u001b[43mestimator\u001b[49m\u001b[38;5;241;43m=\u001b[39;49m\u001b[43mestimator\u001b[49m\u001b[43m,\u001b[49m\n\u001b[1;32m    162\u001b[0m \u001b[43m    \u001b[49m\u001b[43m)\u001b[49m\n\u001b[1;32m    163\u001b[0m     Y \u001b[38;5;241m=\u001b[39m check_array(\n\u001b[1;32m    164\u001b[0m         Y,\n\u001b[1;32m    165\u001b[0m         accept_sparse\u001b[38;5;241m=\u001b[39maccept_sparse,\n\u001b[0;32m   (...)\u001b[0m\n\u001b[1;32m    169\u001b[0m         estimator\u001b[38;5;241m=\u001b[39mestimator,\n\u001b[1;32m    170\u001b[0m     )\n\u001b[1;32m    172\u001b[0m \u001b[38;5;28;01mif\u001b[39;00m precomputed:\n",
      "File \u001b[0;32m~/MISE_project/hybrid-fed-krls/venv/lib/python3.10/site-packages/sklearn/utils/validation.py:861\u001b[0m, in \u001b[0;36mcheck_array\u001b[0;34m(array, accept_sparse, accept_large_sparse, dtype, order, copy, force_all_finite, ensure_2d, allow_nd, ensure_min_samples, ensure_min_features, estimator, input_name)\u001b[0m\n\u001b[1;32m    845\u001b[0m     array \u001b[38;5;241m=\u001b[39m _ensure_sparse_format(\n\u001b[1;32m    846\u001b[0m         array,\n\u001b[1;32m    847\u001b[0m         accept_sparse\u001b[38;5;241m=\u001b[39maccept_sparse,\n\u001b[0;32m   (...)\u001b[0m\n\u001b[1;32m    853\u001b[0m         input_name\u001b[38;5;241m=\u001b[39minput_name,\n\u001b[1;32m    854\u001b[0m     )\n\u001b[1;32m    855\u001b[0m \u001b[38;5;28;01melse\u001b[39;00m:\n\u001b[1;32m    856\u001b[0m     \u001b[38;5;66;03m# If np.array(..) gives ComplexWarning, then we convert the warning\u001b[39;00m\n\u001b[1;32m    857\u001b[0m     \u001b[38;5;66;03m# to an error. This is needed because specifying a non complex\u001b[39;00m\n\u001b[1;32m    858\u001b[0m     \u001b[38;5;66;03m# dtype to the function converts complex to real dtype,\u001b[39;00m\n\u001b[1;32m    859\u001b[0m     \u001b[38;5;66;03m# thereby passing the test made in the lines following the scope\u001b[39;00m\n\u001b[1;32m    860\u001b[0m     \u001b[38;5;66;03m# of warnings context manager.\u001b[39;00m\n\u001b[0;32m--> 861\u001b[0m     \u001b[38;5;28;01mwith\u001b[39;00m warnings\u001b[38;5;241m.\u001b[39mcatch_warnings():\n\u001b[1;32m    862\u001b[0m         \u001b[38;5;28;01mtry\u001b[39;00m:\n\u001b[1;32m    863\u001b[0m             warnings\u001b[38;5;241m.\u001b[39msimplefilter(\u001b[38;5;124m\"\u001b[39m\u001b[38;5;124merror\u001b[39m\u001b[38;5;124m\"\u001b[39m, ComplexWarning)\n",
      "\u001b[0;31mKeyboardInterrupt\u001b[0m: "
     ]
    }
   ],
   "source": [
    "\n",
    "# Run the simulation\n",
    "nys_simulation_surface(\n",
    "    dataset_name=\"Ionosphere\",\n",
    "    num_runs=num_runs,\n",
    "    X_train=X_train,\n",
    "    y_train=y_train,\n",
    "    X_test=X_test,\n",
    "    y_test=y_test,\n",
    "    nyst_method=nyst_method,\n",
    "    kernel_params=kernel_params,\n",
    "    nystrom_landmarks_range=nystrom_landmarks_range,\n",
    "    lambda_range=lambda_range,\n",
    "    Nb=Nb,\n",
    "    toll=toll\n",
    ")\n"
   ]
  },
  {
   "cell_type": "code",
   "execution_count": null,
   "metadata": {},
   "outputs": [],
   "source": []
  }
 ],
 "metadata": {
  "kernelspec": {
   "display_name": "venv",
   "language": "python",
   "name": "python3"
  },
  "language_info": {
   "codemirror_mode": {
    "name": "ipython",
    "version": 3
   },
   "file_extension": ".py",
   "mimetype": "text/x-python",
   "name": "python",
   "nbconvert_exporter": "python",
   "pygments_lexer": "ipython3",
   "version": "3.10.6"
  }
 },
 "nbformat": 4,
 "nbformat_minor": 2
}
