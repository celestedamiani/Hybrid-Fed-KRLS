{
 "cells": [
  {
   "cell_type": "markdown",
   "metadata": {},
   "source": [
    "In this notebook we showcase the usage of FedCG (A secure federalized kernel least square learning algorithm) as shown in Algorithm 1 of the paper. \n",
    "\n",
    "First we explore the datasets that we used for our tests (Table 1 from the paper), then we show how to use the class FedCG, then run the simulations described in Section 3 (Experimental results). \n",
    "\n"
   ]
  },
  {
   "cell_type": "code",
   "execution_count": 1,
   "metadata": {},
   "outputs": [],
   "source": [
    "# Import necessary libraries and modules\n",
    "import numpy as np\n",
    "import pdb\n",
    "from sklearn.metrics import accuracy_score\n",
    "\n",
    "\n",
    "# importing scripts for auxiliary functions\n",
    "import sys\n",
    "import os\n",
    "sys.path.append('..')\n",
    "sys.path.append('./py_scripts')\n",
    "\n",
    "\n",
    "from py_scripts.kernel import Kernel\n",
    "from py_scripts.dataset_handler import *\n",
    "from py_scripts.federated_functions import FedCG \n",
    "from py_scripts.simulation import model_simulation, nys_simulation"
   ]
  },
  {
   "cell_type": "code",
   "execution_count": 38,
   "metadata": {},
   "outputs": [],
   "source": [
    "# INITIALISATION\n",
    "# Define your data, parameters, and model initialization\n",
    "# kernel type can be: 0 for linear, 1 for RBF, 2 for polynomial, 3 for random kernel, 4 wu kernel\n",
    "# sigma: width/variance of the rbf kernel, default is None\n",
    "# polydegree: degree of the polynomial kernel, default is None\n",
    "# binary: 1 for yes, default is None\n",
    "\n",
    "\n",
    "kernel_params = Kernel(kernel_type=1, kernel_sigma = 1, poly_degree = None, binary = None) \n",
    "nyst_points = 50    # Define the number of Nystrom points\n",
    "lam = 1e-6  # Define the regularization parameter - è a 1e-6 per tutti tranne sonar e ionosphere\n",
    "Nb = 10             # Define the number of batches or hospitals\n",
    "toll = 1e-3      # Define the tolerance value - a 1e-3 per tutti meno sonar e ionosphere"
   ]
  },
  {
   "cell_type": "markdown",
   "metadata": {},
   "source": [
    "# Explore datasets\n"
   ]
  },
  {
   "cell_type": "markdown",
   "metadata": {},
   "source": [
    "### Toy dataset"
   ]
  },
  {
   "cell_type": "code",
   "execution_count": null,
   "metadata": {},
   "outputs": [],
   "source": [
    "[X_train, y_train, X_test, y_test, W ]=load_random_gen_dataset( N=2000, feat=3, seed=0, nystr_pt=nyst_points, nystr_method='subsampling')\n",
    "\n",
    "visualize_dataset_pca_with_W(X_train, y_train, W, 'TRAIN generated, W subsampling')\n",
    "visualize_dataset_pca(X_test, y_test,'TEST generated')"
   ]
  },
  {
   "cell_type": "markdown",
   "metadata": {},
   "source": [
    "### Iris"
   ]
  },
  {
   "cell_type": "code",
   "execution_count": null,
   "metadata": {},
   "outputs": [],
   "source": [
    "[X_train, y_train, X_test, y_test, W ]= load_iris_dataset(seed=0, nystr_pt=50, nystr_method='subsampling')\n",
    "\n",
    "visualize_dataset_pca_with_W(X_train, y_train, W, 'TRAIN Iris, W subsampling')\n",
    "visualize_dataset_pca(X_test, y_test,'TEST Iris')"
   ]
  },
  {
   "cell_type": "markdown",
   "metadata": {},
   "source": [
    "### Ionosphere"
   ]
  },
  {
   "cell_type": "code",
   "execution_count": null,
   "metadata": {},
   "outputs": [],
   "source": [
    "[X_train, y_train, X_test, y_test, W ]= load_ionosphere_dataset(seed=0, nystr_pt=50, nystr_method='subsampling')\n",
    "\n",
    "visualize_dataset_pca_with_W(X_train, y_train, W, 'TRAIN Ionosphere subsampling')\n",
    "visualize_dataset_pca(X_test, y_test,'TEST Ionosphere')"
   ]
  },
  {
   "cell_type": "markdown",
   "metadata": {},
   "source": [
    "### Sonar"
   ]
  },
  {
   "cell_type": "code",
   "execution_count": null,
   "metadata": {},
   "outputs": [],
   "source": [
    "[X_train, y_train, X_test, y_test, W ]= load_sonar_dataset(seed=0, nystr_pt=50, nystr_method='subsampling')\n",
    "\n",
    "visualize_dataset_pca_with_W(X_train, y_train, W, 'TRAINING Sonar subsampling')\n",
    "visualize_dataset_pca(X_test, y_test,'TEST Sonar')"
   ]
  },
  {
   "cell_type": "markdown",
   "metadata": {},
   "source": [
    "### BC Wisconsin"
   ]
  },
  {
   "cell_type": "code",
   "execution_count": null,
   "metadata": {},
   "outputs": [],
   "source": [
    "[X_train, y_train, X_test, y_test, W ]= load_bc_dataset(seed=0, nystr_pt=50, nystr_method='subsampling')\n",
    "\n",
    "visualize_dataset_pca_with_W(X_train, y_train, W, 'TRAIN BC Wisconsin subsampling')\n",
    "visualize_dataset_pca(X_test, y_test,'TEST BCWisconsin normal')"
   ]
  },
  {
   "cell_type": "markdown",
   "metadata": {},
   "source": [
    "### Wine"
   ]
  },
  {
   "cell_type": "code",
   "execution_count": null,
   "metadata": {},
   "outputs": [],
   "source": [
    "[X_train, y_train, X_test, y_test, W ]= load_wine_dataset(seed=0, nystr_pt=50, nystr_method='subsampling')\n",
    "\n",
    "visualize_dataset_pca_with_W(X_train, y_train, W, 'TRAIN Wine subsampling')\n",
    "visualize_dataset_pca(X_test, y_test,'TEST Wine')"
   ]
  },
  {
   "cell_type": "code",
   "execution_count": null,
   "metadata": {},
   "outputs": [],
   "source": []
  },
  {
   "cell_type": "markdown",
   "metadata": {},
   "source": [
    "# Using the class - Toy dataset"
   ]
  },
  {
   "cell_type": "code",
   "execution_count": null,
   "metadata": {},
   "outputs": [],
   "source": [
    "[X_train, y_train, X_test, y_test, W ]=load_random_gen_dataset( N=2000, feat=3, seed=0, nystr_pt=nyst_points, nystr_method='uniform')\n",
    "#visualize_dataset_pca_with_W(X_train, y_train, W, \"Generated_ds_W_uniform\")\n",
    "\n",
    "# Initialise the FedCG object\n",
    "fedcg_model = FedCG(kernel_params, nyst_points, lam, Nb, toll)\n",
    "# We also initialise a CenCG centralised model for comparison\n",
    "cencg_model = FedCG(kernel_params, nyst_points, lam, 1, toll)\n",
    "\n",
    "#TRAINING\n",
    "localResidue, federated_accuracy, test_accuracy, elapsed, alpha = fedcg_model.fit(X_train, y_train, X_test, y_test, W=W, alpha_init=None)\n"
   ]
  },
  {
   "cell_type": "code",
   "execution_count": null,
   "metadata": {},
   "outputs": [],
   "source": [
    "central_localResidue, central_federated_accuracy, cen_time, central_test_accuracy , central_alpha = cencg_model.fit(X_train, y_train, X_test, y_test, W=W, alpha_init=None)"
   ]
  },
  {
   "cell_type": "code",
   "execution_count": null,
   "metadata": {},
   "outputs": [],
   "source": [
    "#PREDICTIONS\n",
    "predictions = fedcg_model.predict(X_test)\n",
    "transformed_predictions = np.sign(predictions)\n",
    "print(\"Unique values in predictions: \", np.unique(transformed_predictions))  # Display unique values in transformed_predictions\n",
    "\n",
    "# Compute accuracy\n",
    "accuracy = accuracy_score(y_test, transformed_predictions)\n",
    "print(f\"Accuracy of the federated model on the test set: {accuracy}\")"
   ]
  },
  {
   "cell_type": "code",
   "execution_count": null,
   "metadata": {},
   "outputs": [],
   "source": [
    "# CENTRALISED PREDICTIONS\n",
    "cen_predictions = cencg_model.predict(X_test)\n",
    "cen_transformed_predictions = np.sign(cen_predictions)\n",
    "\n",
    "# Compute accuracy\n",
    "cen_accuracy = accuracy_score(y_test, cen_transformed_predictions)\n",
    "print(f\"Accuracy of the centralised model on the test set: {cen_accuracy}\")"
   ]
  },
  {
   "cell_type": "markdown",
   "metadata": {},
   "source": [
    "## Testing with actual datasets"
   ]
  },
  {
   "cell_type": "markdown",
   "metadata": {},
   "source": [
    "### Iris dataset"
   ]
  },
  {
   "cell_type": "code",
   "execution_count": null,
   "metadata": {},
   "outputs": [],
   "source": [
    "[X_iris_train, y_iris_train, X_iris_test, y_iris_test, W_iris ]=load_iris_dataset(nystr_pt=nyst_points, nystr_method='uniform')\n",
    "\n",
    "# Initialise the FedCG object\n",
    "fedcg_model_iris = FedCG(kernel_params, nyst_points, lam, Nb, toll)\n",
    "# We also initialise a CenCG centralised model for comparison\n",
    "cencg_model_iris = FedCG(kernel_params, nyst_points, lam, 1, toll)\n",
    "\n",
    "iris_localResidue, iris_federated_accuracy, iris_test_accuracy,exp_time,  iris_alpha = fedcg_model_iris.fit(X_iris_train, y_iris_train, X_iris_test, y_iris_test, W=W_iris, alpha_init=None)\n"
   ]
  },
  {
   "cell_type": "code",
   "execution_count": null,
   "metadata": {},
   "outputs": [],
   "source": [
    "central_iris_localResidue, cent_iris_federated_accuracy, cent_iris_test_accuracy, cen_ext_time,  central_iris_alpha = cencg_model_iris.fit(X_iris_train, y_iris_train, X_iris_test, y_iris_test, W=W_iris, alpha_init=None)"
   ]
  },
  {
   "cell_type": "markdown",
   "metadata": {},
   "source": [
    "### Ionosphere dataset"
   ]
  },
  {
   "cell_type": "code",
   "execution_count": null,
   "metadata": {},
   "outputs": [],
   "source": [
    "[X_ionosphere_train, y_ionosphere_train, X_ionosphere_test, y_ionosphere_test, W_ionosphere ]=load_ionosphere_dataset(nystr_pt=nyst_points, nystr_method='uniform')"
   ]
  },
  {
   "cell_type": "code",
   "execution_count": null,
   "metadata": {},
   "outputs": [],
   "source": [
    "# Define the range of values for lambda and toll for grid search\n",
    "lam_values = [1e-4, 1e-5, 1e-6, 1e-7, 1e-8, 1e-9, 1e-10, 1e-11]  # Add more values if needed\n",
    "toll_values = [1e-10, 1e-9, 1e-8, 1e-7, 1e-6, 1e-5, 1e-4, 1e-3, 1e-2]  # Add more values if needed\n",
    "\n",
    "best_epoch = 0\n",
    "best_params = {}\n",
    "\n",
    "for lam in lam_values:\n",
    "    for toll in toll_values:\n",
    "        fedcg_model_ionosphere = FedCG(kernel_params, nyst_points, lam, Nb, toll)\n",
    "        ionosphere_localResidue, ionosphere_federated_accuracy, ionosphere_test_accuracy, ionosphere_elapsed, ionosphere_alpha = fedcg_model_ionosphere.fit(X_ionosphere_train, y_ionosphere_train, X_ionosphere_test, y_ionosphere_test, W=W_ionosphere, alpha_init=None, silent=True)\n",
    "        stopping_epoch = len(ionosphere_localResidue)\n",
    "        if stopping_epoch > best_epoch:\n",
    "            best_epoch = stopping_epoch\n",
    "            best_params['lambda'] = lam\n",
    "            best_params['tolerance'] = toll\n",
    "            best_model = fedcg_model_ionosphere\n",
    "\n",
    "print(\"Best stopping epoch:\", best_epoch)\n",
    "print(\"Best lambda:\", best_params['lambda'])\n",
    "print(\"Best tolerance:\", best_params['tolerance'])\n"
   ]
  },
  {
   "cell_type": "code",
   "execution_count": null,
   "metadata": {},
   "outputs": [],
   "source": [
    "lam = 1e-6\n",
    "toll =  1e-3\n",
    "\n",
    "# Initialise the FedCG object\n",
    "fedcg_model_ionosphere = FedCG(kernel_params, nyst_points, lam, Nb, toll)\n",
    "# We also initialise a CenCG centralised model for comparison\n",
    "cencg_model_ionosphere = FedCG(kernel_params, nyst_points, lam, 1, toll)\n",
    "\n",
    "ionosphere_localResidue, ionosphere_federated_accuracy, ionosphere_test_accuracy, ionosphere_elapsed, ionosphere_alpha = fedcg_model_ionosphere.fit(X_ionosphere_train, y_ionosphere_train, X_ionosphere_test, y_ionosphere_test, W=W_ionosphere, alpha_init=None)"
   ]
  },
  {
   "cell_type": "code",
   "execution_count": null,
   "metadata": {},
   "outputs": [],
   "source": [
    "#PREDICTIONS\n",
    "predictions = fedcg_model_ionosphere.predict(X_ionosphere_test)\n",
    "transformed_predictions = np.sign(predictions)\n",
    "print(\"Unique values in predictions: \", np.unique(transformed_predictions))  # Display unique values in transformed_predictions\n",
    "\n",
    "# Compute accuracy\n",
    "accuracy = accuracy_score(y_ionosphere_test, transformed_predictions)\n",
    "print(f\"Accuracy of the federated model on the test set: {accuracy}\")"
   ]
  },
  {
   "cell_type": "code",
   "execution_count": null,
   "metadata": {},
   "outputs": [],
   "source": [
    "central_ionosphere_localResidue, cent_ionosphere_federated_accuracy, cent_ionosphere_test_accuracy,central_ionosphere_elapsed, central_ionosphere_alpha = cencg_model_ionosphere.fit(X_ionosphere_train, y_ionosphere_train, X_ionosphere_test, y_ionosphere_test, W=W_ionosphere, alpha_init=None)"
   ]
  },
  {
   "cell_type": "markdown",
   "metadata": {},
   "source": [
    "### Sonar dataset"
   ]
  },
  {
   "cell_type": "code",
   "execution_count": null,
   "metadata": {},
   "outputs": [],
   "source": [
    "[X_sonar_train, y_sonar_train, X_sonar_test, y_sonar_test, W_sonar ]=load_sonar_dataset(nystr_pt=nyst_points, nystr_method='uniform')\n"
   ]
  },
  {
   "cell_type": "code",
   "execution_count": null,
   "metadata": {},
   "outputs": [],
   "source": [
    "# Define the range of values for lambda and toll for grid search\n",
    "lam_values = [1e-1, 1e-2, 1e-3, 1e-4, 1e-5, 1e-6, 1e-7, 1e-8, 1e-9, 1e-10, 1e-11]  # Add more values if needed\n",
    "toll_values = [1e-10, 1e-9, 1e-8, 1e-7, 1e-6, 1e-5, 1e-4, 1e-3, 1e-2, 1e-1]  # Add more values if needed\n",
    "\n",
    "best_epoch = 0\n",
    "best_params = {}\n",
    "\n",
    "for lam in lam_values:\n",
    "    for toll in toll_values:\n",
    "        fedcg_model_sonar = FedCG(kernel_params, nyst_points, lam, Nb, toll)\n",
    "        sonar_localResidue, sonar_federated_accuracy, sonar_test_accuracy, sonar_elapsed, sonar_alpha = fedcg_model_sonar.fit(X_sonar_train, y_sonar_train, X_sonar_test, y_sonar_test, W=W_sonar, alpha_init=None, silent=True)\n",
    "        stopping_epoch = len(sonar_localResidue)\n",
    "        if stopping_epoch > best_epoch:\n",
    "            best_epoch = stopping_epoch\n",
    "            best_params['lambda'] = lam\n",
    "            best_params['tolerance'] = toll\n",
    "            best_model = fedcg_model_sonar\n",
    "\n",
    "print(\"Best stopping epoch:\", best_epoch)\n",
    "print(\"Best lambda:\", best_params['lambda'])\n",
    "print(\"Best tolerance:\", best_params['tolerance'])\n"
   ]
  },
  {
   "cell_type": "code",
   "execution_count": null,
   "metadata": {},
   "outputs": [],
   "source": [
    "lam = 1e-6\n",
    "toll = 1e-3\n",
    "fedcg_model_sonar = FedCG(kernel_params, nyst_points, lam, Nb, toll)\n",
    "cencg_model_sonar = FedCG(kernel_params, nyst_points, lam, 1, toll)\n",
    "\n",
    "sonar_localResidue, sonar_federated_accuracy, sonar_test_accuracy,sonar_elapsed, sonar_alpha = fedcg_model_sonar.fit(X_sonar_train, y_sonar_train, X_sonar_test, y_sonar_test, W=W_sonar, alpha_init=None)"
   ]
  },
  {
   "cell_type": "code",
   "execution_count": null,
   "metadata": {},
   "outputs": [],
   "source": [
    "#PREDICTIONS\n",
    "predictions = fedcg_model_sonar.predict(X_sonar_test)\n",
    "transformed_predictions = np.sign(predictions)\n",
    "print(\"Unique values in predictions: \", np.unique(transformed_predictions))  # Display unique values in transformed_predictions\n",
    "\n",
    "# Compute accuracy\n",
    "accuracy = accuracy_score(y_sonar_test, transformed_predictions)\n",
    "print(f\"Accuracy of the federated model on the test set: {accuracy}\")"
   ]
  },
  {
   "cell_type": "code",
   "execution_count": null,
   "metadata": {},
   "outputs": [],
   "source": [
    "central_sonar_localResidue, cen_sonar_federated_accuracy, cen_sonar_test_accuracy,central_sonar_elapsed, central_sonar_alpha = cencg_model_sonar.fit(X_sonar_train, y_sonar_train, X_sonar_test, y_sonar_test, W=W_sonar, alpha_init=None)"
   ]
  },
  {
   "cell_type": "code",
   "execution_count": null,
   "metadata": {},
   "outputs": [],
   "source": []
  },
  {
   "cell_type": "markdown",
   "metadata": {},
   "source": [
    "# Simulations\n",
    "Random initialisation at each run, 10 runs, function `model_simulation` in `py_scripts/simulation.py`."
   ]
  },
  {
   "cell_type": "markdown",
   "metadata": {},
   "source": [
    "## Toy dataset"
   ]
  },
  {
   "cell_type": "code",
   "execution_count": 39,
   "metadata": {},
   "outputs": [
    {
     "name": "stdout",
     "output_type": "stream",
     "text": [
      "Loading random generated dataset...\n",
      "W matrix shape:  (50, 3)\n"
     ]
    }
   ],
   "source": [
    "[X_train, y_train, X_test, y_test, W ]=load_random_gen_dataset( N=2000, feat=3, seed=0, nystr_pt=nyst_points, nystr_method='uniform')\n",
    "\n",
    "model_simulation('Generated_uniform', 10, X_train, y_train, X_test, y_test, W, kernel_params, nyst_points, lam, Nb, toll)"
   ]
  },
  {
   "cell_type": "markdown",
   "metadata": {},
   "source": [
    "## Iris dataset\n"
   ]
  },
  {
   "cell_type": "code",
   "execution_count": 40,
   "metadata": {},
   "outputs": [
    {
     "name": "stdout",
     "output_type": "stream",
     "text": [
      "Loading Iris dataset...\n",
      "Features are: sepal length (cm), sepal width (cm), petal length (cm), petal width (cm)\n",
      "Classes are: setosa, versicolor, virginica\n",
      "but we'll consider 'setosa' as one class and 'versicolor'+'virginica' as another class\n",
      "y_train and y_test shape: (105,) (45,)\n",
      "X_train and X_test shape: (105, 4) (45, 4)\n",
      "W matrix shape:  (50, 4)\n"
     ]
    }
   ],
   "source": [
    "[X_train, y_train, X_test, y_test, W ]=load_iris_dataset( nystr_pt=nyst_points, nystr_method='uniform')\n",
    "model_simulation('Iris_uniform', 10, X_train, y_train, X_test, y_test, W, kernel_params, nyst_points, lam, Nb, toll)"
   ]
  },
  {
   "cell_type": "markdown",
   "metadata": {},
   "source": [
    "## Ionosphere dataset"
   ]
  },
  {
   "cell_type": "code",
   "execution_count": 41,
   "metadata": {},
   "outputs": [],
   "source": [
    "lam = 1e-4\n",
    "toll =  1e-6\n",
    "[X_train, y_train, X_test, y_test, W ]=load_ionosphere_dataset(nystr_pt=nyst_points, nystr_method='uniform')\n",
    "model_simulation('Ionosphere_uniform', 10, X_train, y_train, X_test, y_test, W, kernel_params, nyst_points, lam, Nb, toll)"
   ]
  },
  {
   "cell_type": "markdown",
   "metadata": {},
   "source": [
    "## Sonar dataset"
   ]
  },
  {
   "cell_type": "code",
   "execution_count": 42,
   "metadata": {},
   "outputs": [
    {
     "name": "stdout",
     "output_type": "stream",
     "text": [
      "Loading Sonar dataset...\n",
      "Unique labels in the dataset: ['Mine' 'Rock']\n"
     ]
    }
   ],
   "source": [
    "[X_train, y_train, X_test, y_test, W ]=load_sonar_dataset( nystr_pt=nyst_points, nystr_method='uniform')\n",
    "lam = 1e-6\n",
    "toll = 1e-6\n",
    "model_simulation('Sonar_uniform', 10, X_train, y_train, X_test, y_test, W, kernel_params, nyst_points, lam, Nb, toll)"
   ]
  },
  {
   "cell_type": "markdown",
   "metadata": {},
   "source": [
    "## Breast cancer"
   ]
  },
  {
   "cell_type": "code",
   "execution_count": 43,
   "metadata": {},
   "outputs": [
    {
     "name": "stdout",
     "output_type": "stream",
     "text": [
      "Loading the Breast Cancer Wisconsin dataset...\n",
      "X_train and X_test shape: (398, 30) (171, 30)\n",
      "y_train and y_test shape: (398,) (171,)\n"
     ]
    }
   ],
   "source": [
    "lam = 1e-6\n",
    "toll = 1e-3\n",
    "[X_train, y_train, X_test, y_test, W ]=load_bc_dataset( nystr_pt=nyst_points, nystr_method='uniform')\n",
    "model_simulation('Breast_cancer_uniform', 10, X_train, y_train, X_test, y_test, W, kernel_params, nyst_points, lam, Nb, toll)"
   ]
  },
  {
   "cell_type": "markdown",
   "metadata": {},
   "source": [
    "## Wine dataset"
   ]
  },
  {
   "cell_type": "code",
   "execution_count": 44,
   "metadata": {},
   "outputs": [
    {
     "name": "stdout",
     "output_type": "stream",
     "text": [
      "Loading Wine Recognition dataset...\n",
      "Features are: alcohol, malic_acid, ash, alcalinity_of_ash, magnesium, total_phenols, flavanoids, nonflavanoid_phenols, proanthocyanins, color_intensity, hue, od280/od315_of_diluted_wines, proline\n",
      "Classes are: class_0, class_1, class_2\n",
      "We will consider 'class_1' as one class and 'class_0'+'class_2' as another\n",
      "y_train and y_test shape: (124,) (54,)\n",
      "X_train and X_test shape: (124, 13) (54, 13)\n",
      "W matrix shape:  (50, 13)\n"
     ]
    }
   ],
   "source": [
    "[X_train, y_train, X_test, y_test, W ]=load_wine_dataset( nystr_pt=nyst_points, nystr_method='uniform')\n",
    "model_simulation('Wine_uniform', 10, X_train, y_train, X_test, y_test, W, kernel_params, nyst_points, lam, Nb, toll)"
   ]
  },
  {
   "cell_type": "markdown",
   "metadata": {},
   "source": [
    "# Nystrom matrix simulations\n",
    "\n",
    "Nystrom landmark new initialisation at each run, 10 runs, function `nys_simulation` in `py_scripts/simulation.py`."
   ]
  },
  {
   "cell_type": "code",
   "execution_count": null,
   "metadata": {},
   "outputs": [],
   "source": [
    "[X_train, y_train, X_test, y_test]=load_random_gen_dataset(N=2000, feat=3, seed=0, nystr_pt=nyst_points, nystr_method='uniform')[:-1]\n",
    "nys_simulation('Generated', 10, X_train, y_train, X_test, y_test, 'uniform', kernel_params, nyst_points, lam, Nb, toll)\n"
   ]
  },
  {
   "cell_type": "code",
   "execution_count": null,
   "metadata": {},
   "outputs": [],
   "source": [
    "[X_train, y_train, X_test, y_test]=load_iris_dataset( nystr_pt=nyst_points, nystr_method='uniform')[:-1]\n",
    "nys_simulation('Iris', 10, X_train, y_train, X_test, y_test, 'uniform', kernel_params, nyst_points, lam, Nb, toll)"
   ]
  },
  {
   "cell_type": "code",
   "execution_count": null,
   "metadata": {},
   "outputs": [],
   "source": [
    "lam = 1e-4\n",
    "toll =  1e-6\n",
    "[X_train, y_train, X_test, y_test ]=load_ionosphere_dataset(nystr_pt=nyst_points, nystr_method='uniform')[:-1]\n",
    "nys_simulation('Ionosphere', 10, X_train, y_train, X_test, y_test, 'uniform', kernel_params, nyst_points, lam, Nb, toll)"
   ]
  },
  {
   "cell_type": "code",
   "execution_count": null,
   "metadata": {},
   "outputs": [],
   "source": [
    "lam = 1e-6\n",
    "toll =  1e-4\n",
    "[X_train, y_train, X_test, y_test ]=load_sonar_dataset( nystr_pt=nyst_points, nystr_method='uniform')[:-1]\n",
    "nys_simulation('Sonar', 10, X_train, y_train, X_test, y_test, 'uniform', kernel_params, nyst_points, lam, Nb, toll)"
   ]
  },
  {
   "cell_type": "code",
   "execution_count": null,
   "metadata": {},
   "outputs": [],
   "source": [
    "[X_train, y_train, X_test, y_test ]=load_bc_dataset( nystr_pt=nyst_points, nystr_method='uniform')[:-1]\n",
    "nys_simulation('BreastCancer', 10, X_train, y_train, X_test, y_test, 'uniform', kernel_params, nyst_points, lam, Nb, toll)"
   ]
  },
  {
   "cell_type": "code",
   "execution_count": null,
   "metadata": {},
   "outputs": [],
   "source": [
    "[X_train, y_train, X_test, y_test ]=load_wine_dataset( nystr_pt=nyst_points, nystr_method='uniform')[:-1]   \n",
    "nys_simulation('Wine', 10, X_train, y_train, X_test, y_test, 'uniform', kernel_params, nyst_points, lam, Nb, toll)"
   ]
  },
  {
   "cell_type": "markdown",
   "metadata": {},
   "source": [
    "# Summary tables\n"
   ]
  },
  {
   "cell_type": "markdown",
   "metadata": {},
   "source": [
    "## FedCG vs CenCG, random initialisation\n",
    "Fixed Nystrom landmarks matrix.\n",
    "Average results for 10 simulations"
   ]
  },
  {
   "cell_type": "markdown",
   "metadata": {},
   "source": [
    "### uniform"
   ]
  },
  {
   "cell_type": "code",
   "execution_count": 45,
   "metadata": {},
   "outputs": [
    {
     "name": "stdout",
     "output_type": "stream",
     "text": [
      "${16.80 \\pm 0.84}$ & ${4.03 \\pm 1.50}$ & ${0.94 \\pm 0.00}$ & ${0.96 \\pm 0.00}$ & ${0.95 \\pm 0.00}$\n"
     ]
    }
   ],
   "source": [
    "\n",
    "fedCG_generated_uniform = \"Results_FedCG/Random_Initialisation/fedCG/Generated/fedcg_results_Generated_uniform.csv\"  # Replace with the actual file path on your machine\n",
    "get_stats_latex(fedCG_generated_uniform)"
   ]
  },
  {
   "cell_type": "code",
   "execution_count": 46,
   "metadata": {},
   "outputs": [
    {
     "name": "stdout",
     "output_type": "stream",
     "text": [
      "${16.70 \\pm 0.97}$ & ${4.63 \\pm 3.30}$ & ${0.94 \\pm 0.00}$ & ${0.96 \\pm 0.00}$ & ${0.95 \\pm 0.00}$\n"
     ]
    }
   ],
   "source": [
    "cenCG_generated_uniform = \"Results_FedCG/Random_Initialisation/cenCG/Generated/cencg_results_Generated_uniform.csv\"\n",
    "get_stats_latex(cenCG_generated_uniform)"
   ]
  },
  {
   "cell_type": "code",
   "execution_count": 47,
   "metadata": {},
   "outputs": [
    {
     "name": "stdout",
     "output_type": "stream",
     "text": [
      "${9.80 \\pm 1.58}$ & ${0.21 \\pm 0.06}$ & ${1.00 \\pm 0.00}$ & ${1.00 \\pm 0.00}$ & ${1.00 \\pm 0.00}$\n"
     ]
    }
   ],
   "source": [
    "fedCG_Iris_uniform = \"Results_FedCG/Random_Initialisation/fedCG/Iris/fedcg_results_Iris_uniform.csv\"\n",
    "get_stats_latex(fedCG_Iris_uniform)"
   ]
  },
  {
   "cell_type": "code",
   "execution_count": 48,
   "metadata": {},
   "outputs": [
    {
     "name": "stdout",
     "output_type": "stream",
     "text": [
      "${10.10 \\pm 1.99}$ & ${0.05 \\pm 0.04}$ & ${1.00 \\pm 0.00}$ & ${1.00 \\pm 0.00}$ & ${1.00 \\pm 0.00}$\n"
     ]
    }
   ],
   "source": [
    "cenGC_Iris_uniform = \"Random_Initialisation/cenCG/Iris/cencg_results_Iris_uniform.csv\"\n",
    "get_stats_latex(cenGC_Iris_uniform)"
   ]
  },
  {
   "cell_type": "code",
   "execution_count": 49,
   "metadata": {},
   "outputs": [
    {
     "name": "stdout",
     "output_type": "stream",
     "text": [
      "${60.00 \\pm 4.52}$ & ${12.08 \\pm 2.30}$ & ${0.89 \\pm 0.00}$ & ${1.00 \\pm 0.00}$ & ${0.84 \\pm 0.00}$\n"
     ]
    }
   ],
   "source": [
    "fedCG_Ionosphere_uniform = \"Results_FedCG/Random_Initialisation/fedCG/Ionosphere/fedcg_results_Ionosphere_uniform.csv\"\n",
    "get_stats_latex(fedCG_Ionosphere_uniform)"
   ]
  },
  {
   "cell_type": "code",
   "execution_count": 50,
   "metadata": {},
   "outputs": [
    {
     "name": "stdout",
     "output_type": "stream",
     "text": [
      "${60.80 \\pm 4.30}$ & ${2.52 \\pm 0.87}$ & ${0.89 \\pm 0.00}$ & ${1.00 \\pm 0.00}$ & ${0.84 \\pm 0.00}$\n"
     ]
    }
   ],
   "source": [
    "cenCG_Ionosphere_uniform = \"Results_FedCG/Random_Initialisation/cenCG/Ionosphere/cencg_results_Ionosphere_uniform.csv\"\n",
    "get_stats_latex(cenCG_Ionosphere_uniform)"
   ]
  },
  {
   "cell_type": "code",
   "execution_count": 51,
   "metadata": {},
   "outputs": [
    {
     "name": "stdout",
     "output_type": "stream",
     "text": [
      "${48.90 \\pm 0.63}$ & ${15.90 \\pm 3.72}$ & ${0.90 \\pm 0.00}$ & ${0.86 \\pm 0.00}$ & ${0.86 \\pm 0.00}$\n"
     ]
    }
   ],
   "source": [
    "fedCG_Sonar_uniform = \"Results_FedCG/Random_Initialisation/fedCG/Sonar/fedcg_results_Sonar_uniform.csv\"\n",
    "get_stats_latex(fedCG_Sonar_uniform)"
   ]
  },
  {
   "cell_type": "code",
   "execution_count": 52,
   "metadata": {},
   "outputs": [
    {
     "name": "stdout",
     "output_type": "stream",
     "text": [
      "${49.10 \\pm 0.63}$ & ${2.56 \\pm 0.74}$ & ${0.90 \\pm 0.00}$ & ${0.86 \\pm 0.00}$ & ${0.95 \\pm 0.00}$\n"
     ]
    }
   ],
   "source": [
    "cenCG_Sonar_uniform = \"Results_FedCG/Random_Initialisation/cenCG/Sonar/cencg_results_Sonar_uniform.csv\"\n",
    "get_stats_latex(cenCG_Sonar_uniform)"
   ]
  },
  {
   "cell_type": "code",
   "execution_count": 53,
   "metadata": {},
   "outputs": [
    {
     "name": "stdout",
     "output_type": "stream",
     "text": [
      "${42.30 \\pm 1.35}$ & ${7.15 \\pm 1.74}$ & ${0.94 \\pm 0.00}$ & ${0.84 \\pm 0.00}$ & ${0.98 \\pm 0.00}$\n"
     ]
    }
   ],
   "source": [
    "fedCG_BreastCancer_uniform = \"Results_FedCG/Random_Initialisation/fedCG/BreastCancer/fedcg_results_Breast_cancer_uniform.csv\"\n",
    "get_stats_latex(fedCG_BreastCancer_uniform)"
   ]
  },
  {
   "cell_type": "code",
   "execution_count": 54,
   "metadata": {},
   "outputs": [
    {
     "name": "stdout",
     "output_type": "stream",
     "text": [
      "${42.20 \\pm 3.86}$ & ${1.54 \\pm 0.43}$ & ${0.94 \\pm 0.00}$ & ${0.84 \\pm 0.00}$ & ${0.98 \\pm 0.00}$\n"
     ]
    }
   ],
   "source": [
    "cenCG_BreastCancer_uniform = \"Results_FedCG/Random_Initialisation/cenCG/BreastCancer/cencg_results_Breast_cancer_uniform.csv\"\n",
    "get_stats_latex(cenCG_BreastCancer_uniform)"
   ]
  },
  {
   "cell_type": "code",
   "execution_count": 55,
   "metadata": {},
   "outputs": [
    {
     "name": "stdout",
     "output_type": "stream",
     "text": [
      "${37.80 \\pm 2.07}$ & ${2.78 \\pm 0.83}$ & ${1.00 \\pm 0.00}$ & ${1.00 \\pm 0.00}$ & ${1.00 \\pm 0.00}$\n"
     ]
    }
   ],
   "source": [
    "fedCG_Wine_uniform = \"Results_FedCG/Random_Initialisation/fedCG/Wine/fedcg_results_Wine_uniform.csv\"\n",
    "get_stats_latex(fedCG_Wine_uniform)"
   ]
  },
  {
   "cell_type": "code",
   "execution_count": 56,
   "metadata": {},
   "outputs": [
    {
     "name": "stdout",
     "output_type": "stream",
     "text": [
      "${37.10 \\pm 2.57}$ & ${0.35 \\pm 0.15}$ & ${1.00 \\pm 0.00}$ & ${1.00 \\pm 0.00}$ & ${1.00 \\pm 0.00}$\n"
     ]
    }
   ],
   "source": [
    "cenCG_Wine_uniform = \"Results_FedCG/Random_Initialisation/cenCG/Wine/cencg_results_Wine_uniform.csv\"\n",
    "get_stats_latex(cenCG_Wine_uniform)"
   ]
  },
  {
   "cell_type": "markdown",
   "metadata": {},
   "source": [
    "### normal"
   ]
  },
  {
   "cell_type": "code",
   "execution_count": 57,
   "metadata": {},
   "outputs": [
    {
     "name": "stdout",
     "output_type": "stream",
     "text": [
      "${13.00 \\pm 0.00}$ & ${7.74 \\pm 3.27}$ & ${0.94 \\pm 0.00}$ & ${0.96 \\pm 0.00}$ & ${0.95 \\pm 0.00}$\n"
     ]
    }
   ],
   "source": [
    "\n",
    "fedCG_generated_normal = \"Results_FedCG/Random_Initialisation/fedCG/Generated/fedcg_results_Generated_normal.csv\"  # Replace with the actual file path\n",
    "get_stats_latex(fedCG_generated_normal)"
   ]
  },
  {
   "cell_type": "code",
   "execution_count": 58,
   "metadata": {},
   "outputs": [
    {
     "name": "stdout",
     "output_type": "stream",
     "text": [
      "${13.00 \\pm 0.00}$ & ${6.43 \\pm 2.95}$ & ${0.94 \\pm 0.00}$ & ${0.96 \\pm 0.00}$ & ${0.95 \\pm 0.00}$\n"
     ]
    }
   ],
   "source": [
    "cenCG_generated_normal= \"Results_FedCG/Random_Initialisation/cenCG/Generated/cencg_results_Generated_normal.csv\"\n",
    "get_stats_latex(cenCG_generated_normal)"
   ]
  },
  {
   "cell_type": "code",
   "execution_count": 59,
   "metadata": {},
   "outputs": [
    {
     "name": "stdout",
     "output_type": "stream",
     "text": [
      "${11.20 \\pm 0.84}$ & ${0.31 \\pm 0.20}$ & ${1.00 \\pm 0.00}$ & ${1.00 \\pm 0.00}$ & ${1.00 \\pm 0.00}$\n"
     ]
    }
   ],
   "source": [
    "fedCG_Iris_normal = \"Results_FedCG/Random_Initialisation/fedCG/Iris/fedcg_results_Iris_normal.csv\"\n",
    "get_stats_latex(fedCG_Iris_normal)"
   ]
  },
  {
   "cell_type": "code",
   "execution_count": 60,
   "metadata": {},
   "outputs": [
    {
     "name": "stdout",
     "output_type": "stream",
     "text": [
      "${11.10 \\pm 1.75}$ & ${0.08 \\pm 0.06}$ & ${1.00 \\pm 0.00}$ & ${1.00 \\pm 0.00}$ & ${1.00 \\pm 0.00}$\n"
     ]
    }
   ],
   "source": [
    "cenGC_Iris_normal = \"Results_FedCG/Random_Initialisation/cenCG/Iris/cencg_results_Iris_normal.csv\"\n",
    "get_stats_latex(cenGC_Iris_normal)"
   ]
  },
  {
   "cell_type": "code",
   "execution_count": 61,
   "metadata": {},
   "outputs": [
    {
     "name": "stdout",
     "output_type": "stream",
     "text": [
      "${66.30 \\pm 3.89}$ & ${8.67 \\pm 2.90}$ & ${0.85 \\pm 0.00}$ & ${0.95 \\pm 0.00}$ & ${0.84 \\pm 0.00}$\n"
     ]
    }
   ],
   "source": [
    "fedCG_Ionosphere_normal = \"Results_FedCG/Random_Initialisation/fedCG/Ionosphere/fedcg_results_Ionosphere_normal.csv\"\n",
    "get_stats_latex(fedCG_Ionosphere_normal)"
   ]
  },
  {
   "cell_type": "code",
   "execution_count": 62,
   "metadata": {},
   "outputs": [
    {
     "name": "stdout",
     "output_type": "stream",
     "text": [
      "${67.00 \\pm 3.77}$ & ${4.87 \\pm 2.66}$ & ${0.85 \\pm 0.00}$ & ${0.95 \\pm 0.00}$ & ${0.82 \\pm 0.00}$\n"
     ]
    }
   ],
   "source": [
    "cenCG_Ionosphere_normal = \"Results_FedCG/Random_Initialisation/cenCG/Ionosphere/cencg_results_Ionosphere_normal.csv\"\n",
    "get_stats_latex(cenCG_Ionosphere_normal)"
   ]
  },
  {
   "cell_type": "code",
   "execution_count": 63,
   "metadata": {},
   "outputs": [
    {
     "name": "stdout",
     "output_type": "stream",
     "text": [
      "${47.30 \\pm 3.66}$ & ${7.51 \\pm 1.34}$ & ${0.83 \\pm 0.00}$ & ${0.85 \\pm 0.00}$ & ${0.79 \\pm 0.00}$\n"
     ]
    }
   ],
   "source": [
    "fedCG_Sonar_normal = \"Results_FedCG/Random_Initialisation/fedCG/Sonar/fedcg_results_Sonar_normal.csv\"\n",
    "get_stats_latex(fedCG_Sonar_normal)"
   ]
  },
  {
   "cell_type": "code",
   "execution_count": 64,
   "metadata": {},
   "outputs": [
    {
     "name": "stdout",
     "output_type": "stream",
     "text": [
      "${48.40 \\pm 2.35}$ & ${3.07 \\pm 1.18}$ & ${0.83 \\pm 0.00}$ & ${0.85 \\pm 0.00}$ & ${0.77 \\pm 0.00}$\n"
     ]
    }
   ],
   "source": [
    "cenCG_Sonar_normal = \"Results_FedCG/Random_Initialisation/cenCG/Sonar/cencg_results_Sonar_normal.csv\"\n",
    "get_stats_latex(cenCG_Sonar_normal)"
   ]
  },
  {
   "cell_type": "code",
   "execution_count": 65,
   "metadata": {},
   "outputs": [
    {
     "name": "stdout",
     "output_type": "stream",
     "text": [
      "${55.80 \\pm 4.09}$ & ${4.82 \\pm 0.85}$ & ${0.95 \\pm 0.00}$ & ${0.89 \\pm 0.00}$ & ${0.98 \\pm 0.00}$\n"
     ]
    }
   ],
   "source": [
    "fedCG_BreastCancer_normal = \"Results_FedCG/Random_Initialisation/fedCG/BreastCancer/fedcg_results_Breast_cancer_normal.csv\"\n",
    "get_stats_latex(fedCG_BreastCancer_normal)"
   ]
  },
  {
   "cell_type": "code",
   "execution_count": 66,
   "metadata": {},
   "outputs": [
    {
     "name": "stdout",
     "output_type": "stream",
     "text": [
      "${53.70 \\pm 7.00}$ & ${2.64 \\pm 0.87}$ & ${0.95 \\pm 0.00}$ & ${0.89 \\pm 0.00}$ & ${0.98 \\pm 0.01}$\n"
     ]
    }
   ],
   "source": [
    "cenCG_BreastCancer_normal = \"Results_FedCG/Random_Initialisation/cenCG/BreastCancer/cencg_results_Breast_cancer_normal.csv\"\n",
    "get_stats_latex(cenCG_BreastCancer_normal)"
   ]
  },
  {
   "cell_type": "code",
   "execution_count": 67,
   "metadata": {},
   "outputs": [
    {
     "name": "stdout",
     "output_type": "stream",
     "text": [
      "${40.70 \\pm 3.53}$ & ${1.48 \\pm 0.17}$ & ${0.96 \\pm 0.00}$ & ${0.91 \\pm 0.00}$ & ${1.00 \\pm 0.00}$\n"
     ]
    }
   ],
   "source": [
    "fedCG_Wine_normal = \"Results_FedCG/Random_Initialisation/fedCG/Wine/fedcg_results_Wine_normal.csv\"\n",
    "get_stats_latex(fedCG_Wine_normal)"
   ]
  },
  {
   "cell_type": "code",
   "execution_count": 68,
   "metadata": {},
   "outputs": [
    {
     "name": "stdout",
     "output_type": "stream",
     "text": [
      "${41.00 \\pm 3.77}$ & ${0.28 \\pm 0.03}$ & ${0.96 \\pm 0.00}$ & ${0.91 \\pm 0.00}$ & ${1.00 \\pm 0.00}$\n"
     ]
    }
   ],
   "source": [
    "cenCG_Wine_normal = \"Results_FedCG/Random_Initialisation/cenCG/Wine/cencg_results_Wine_normal.csv\"\n",
    "get_stats_latex(cenCG_Wine_normal)"
   ]
  },
  {
   "cell_type": "code",
   "execution_count": null,
   "metadata": {},
   "outputs": [],
   "source": []
  },
  {
   "cell_type": "markdown",
   "metadata": {},
   "source": [
    "### subsampling"
   ]
  },
  {
   "cell_type": "code",
   "execution_count": 10,
   "metadata": {},
   "outputs": [
    {
     "name": "stdout",
     "output_type": "stream",
     "text": [
      "${11.90 \\pm 0.63}$ & ${3.29 \\pm 1.88}$ & ${0.94 \\pm 0.00}$ & ${0.96 \\pm 0.00}$ & ${0.95 \\pm 0.00}$\n"
     ]
    }
   ],
   "source": [
    "\n",
    "fedCG_generated_subsampling = \"Results_FedCG/Random_Initialisation/fedCG/Generated/fedcg_results_Generated_subsampling.csv\"  # Replace with the actual file path\n",
    "get_stats_latex(fedCG_generated_subsampling)"
   ]
  },
  {
   "cell_type": "code",
   "execution_count": 11,
   "metadata": {},
   "outputs": [
    {
     "name": "stdout",
     "output_type": "stream",
     "text": [
      "${11.90 \\pm 0.63}$ & ${3.97 \\pm 2.89}$ & ${0.94 \\pm 0.00}$ & ${0.96 \\pm 0.00}$ & ${0.95 \\pm 0.00}$\n"
     ]
    }
   ],
   "source": [
    "cenCG_generated_subsampling= \"Results_FedCG/Random_Initialisation/cenCG/Generated/cencg_results_Generated_subsampling.csv\"\n",
    "get_stats_latex(cenCG_generated_subsampling)"
   ]
  },
  {
   "cell_type": "code",
   "execution_count": 12,
   "metadata": {},
   "outputs": [
    {
     "name": "stdout",
     "output_type": "stream",
     "text": [
      "${9.00 \\pm 0.00}$ & ${0.23 \\pm 0.13}$ & ${1.00 \\pm 0.00}$ & ${1.00 \\pm 0.00}$ & ${1.00 \\pm 0.00}$\n"
     ]
    }
   ],
   "source": [
    "fedCG_Iris_subsampling = \"Results_FedCG/Random_Initialisation/fedCG/Iris/fedcg_results_Iris_subsampling.csv\"\n",
    "get_stats_latex(fedCG_Iris_subsampling)"
   ]
  },
  {
   "cell_type": "code",
   "execution_count": 13,
   "metadata": {},
   "outputs": [
    {
     "name": "stdout",
     "output_type": "stream",
     "text": [
      "${8.90 \\pm 0.63}$ & ${0.04 \\pm 0.04}$ & ${1.00 \\pm 0.00}$ & ${1.00 \\pm 0.00}$ & ${1.00 \\pm 0.00}$\n"
     ]
    }
   ],
   "source": [
    "cenGC_Iris_subsampling = \"Results_FedCG/Random_Initialisation/cenCG/Iris/cencg_results_Iris_subsampling.csv\"\n",
    "get_stats_latex(cenGC_Iris_subsampling)"
   ]
  },
  {
   "cell_type": "code",
   "execution_count": 14,
   "metadata": {},
   "outputs": [
    {
     "name": "stdout",
     "output_type": "stream",
     "text": [
      "${139.30 \\pm 2.99}$ & ${17.29 \\pm 3.52}$ & ${0.92 \\pm 0.00}$ & ${0.95 \\pm 0.00}$ & ${0.88 \\pm 0.00}$\n"
     ]
    }
   ],
   "source": [
    "fedCG_Ionosphere_subsampling = \"Results_FedCG/Random_Initialisation/fedCG/Ionosphere/fedcg_results_Ionosphere_subsampling.csv\"\n",
    "get_stats_latex(fedCG_Ionosphere_subsampling)"
   ]
  },
  {
   "cell_type": "code",
   "execution_count": 15,
   "metadata": {},
   "outputs": [
    {
     "name": "stdout",
     "output_type": "stream",
     "text": [
      "${140.40 \\pm 2.53}$ & ${5.19 \\pm 3.11}$ & ${0.92 \\pm 0.00}$ & ${0.95 \\pm 0.00}$ & ${0.89 \\pm 0.00}$\n"
     ]
    }
   ],
   "source": [
    "cenCG_Ionosphere_subsampling = \"Results_FedCG/Random_Initialisation/cenCG/Ionosphere/cencg_results_Ionosphere_subsampling.csv\"\n",
    "get_stats_latex(cenCG_Ionosphere_subsampling)"
   ]
  },
  {
   "cell_type": "code",
   "execution_count": 16,
   "metadata": {},
   "outputs": [
    {
     "name": "stdout",
     "output_type": "stream",
     "text": [
      "${46.80 \\pm 1.26}$ & ${9.05 \\pm 1.80}$ & ${0.89 \\pm 0.00}$ & ${0.78 \\pm 0.00}$ & ${0.91 \\pm 0.00}$\n"
     ]
    }
   ],
   "source": [
    "fedCG_Sonar_subsampling = \"Results_FedCG/Random_Initialisation/fedCG/Sonar/fedcg_results_Sonar_subsampling.csv\"\n",
    "get_stats_latex(fedCG_Sonar_subsampling)"
   ]
  },
  {
   "cell_type": "code",
   "execution_count": 17,
   "metadata": {},
   "outputs": [
    {
     "name": "stdout",
     "output_type": "stream",
     "text": [
      "${42.40 \\pm 3.55}$ & ${1.76 \\pm 0.33}$ & ${0.89 \\pm 0.00}$ & ${0.78 \\pm 0.00}$ & ${0.95 \\pm 0.00}$\n"
     ]
    }
   ],
   "source": [
    "cenCG_Sonar_subsampling = \"Results_FedCG/Random_Initialisation/cenCG/Sonar/cencg_results_Sonar_subsampling.csv\"\n",
    "get_stats_latex(cenCG_Sonar_subsampling)"
   ]
  },
  {
   "cell_type": "code",
   "execution_count": 18,
   "metadata": {},
   "outputs": [
    {
     "name": "stdout",
     "output_type": "stream",
     "text": [
      "${77.20 \\pm 7.35}$ & ${8.63 \\pm 2.92}$ & ${0.96 \\pm 0.00}$ & ${0.95 \\pm 0.00}$ & ${0.95 \\pm 0.00}$\n"
     ]
    }
   ],
   "source": [
    "fedCG_BreastCancer_subsampling = \"Results_FedCG/Random_Initialisation/fedCG/BreastCancer/fedcg_results_Breast_cancer_subsampling.csv\"\n",
    "get_stats_latex(fedCG_BreastCancer_subsampling)"
   ]
  },
  {
   "cell_type": "code",
   "execution_count": 19,
   "metadata": {},
   "outputs": [
    {
     "name": "stdout",
     "output_type": "stream",
     "text": [
      "${78.80 \\pm 13.16}$ & ${2.70 \\pm 1.34}$ & ${0.96 \\pm 0.00}$ & ${0.95 \\pm 0.00}$ & ${0.95 \\pm 0.00}$\n"
     ]
    }
   ],
   "source": [
    "cenCG_BreastCancer_subsampling = \"Results_FedCG/Random_Initialisation/cenCG/BreastCancer/cencg_results_Breast_cancer_subsampling.csv\"\n",
    "get_stats_latex(cenCG_BreastCancer_subsampling)"
   ]
  },
  {
   "cell_type": "code",
   "execution_count": 20,
   "metadata": {},
   "outputs": [
    {
     "name": "stdout",
     "output_type": "stream",
     "text": [
      "${48.40 \\pm 4.73}$ & ${2.12 \\pm 0.41}$ & ${1.00 \\pm 0.00}$ & ${1.00 \\pm 0.00}$ & ${1.00 \\pm 0.00}$\n"
     ]
    }
   ],
   "source": [
    "fedCG_Wine_subsampling = \"Results_FedCG/Random_Initialisation/fedCG/Wine/fedcg_results_Wine_subsampling.csv\"\n",
    "get_stats_latex(fedCG_Wine_subsampling)"
   ]
  },
  {
   "cell_type": "code",
   "execution_count": 21,
   "metadata": {},
   "outputs": [
    {
     "name": "stdout",
     "output_type": "stream",
     "text": [
      "${47.40 \\pm 6.27}$ & ${0.37 \\pm 0.12}$ & ${1.00 \\pm 0.00}$ & ${1.00 \\pm 0.00}$ & ${1.00 \\pm 0.00}$\n"
     ]
    }
   ],
   "source": [
    "cenCG_Wine_subsampling = \"Results_FedCG/Random_Initialisation/cenCG/Wine/cencg_results_Wine_subsampling.csv\"\n",
    "get_stats_latex(cenCG_Wine_subsampling)"
   ]
  },
  {
   "cell_type": "code",
   "execution_count": null,
   "metadata": {},
   "outputs": [],
   "source": []
  },
  {
   "cell_type": "code",
   "execution_count": null,
   "metadata": {},
   "outputs": [],
   "source": []
  },
  {
   "cell_type": "markdown",
   "metadata": {},
   "source": [
    "## Federated vs Central, changing Nystrom matrix\n",
    "Fixed initialisation. Average results for 10 simulations"
   ]
  },
  {
   "cell_type": "markdown",
   "metadata": {},
   "source": [
    "### uniform"
   ]
  },
  {
   "cell_type": "code",
   "execution_count": 81,
   "metadata": {},
   "outputs": [
    {
     "name": "stdout",
     "output_type": "stream",
     "text": [
      "${18.60 \\pm 5.51}$ & ${6.29 \\pm 4.44}$ & ${0.94 \\pm 0.00}$ & ${0.96 \\pm 0.00}$ & ${0.95 \\pm 0.00}$\n"
     ]
    }
   ],
   "source": [
    "\n",
    "nyst_fedCG_generated_uniform = \"Results_FedCG/Random_Nystrom_Matrix/NystFedCG/Generated/nystr_fedcg_results_Generated_uniform.csv\"\n",
    "get_stats_latex(nyst_fedCG_generated_uniform)"
   ]
  },
  {
   "cell_type": "code",
   "execution_count": 82,
   "metadata": {},
   "outputs": [
    {
     "name": "stdout",
     "output_type": "stream",
     "text": [
      "${18.30 \\pm 5.50}$ & ${4.86 \\pm 2.59}$ & ${0.94 \\pm 0.00}$ & ${0.96 \\pm 0.00}$ & ${0.95 \\pm 0.00}$\n"
     ]
    }
   ],
   "source": [
    "nyst_cenCG_generated_uniform = \"Results_FedCG/Random_Nystrom_Matrix/NystCenCG/Generated/nystr_cencg_results_Generated_uniform.csv\"\n",
    "get_stats_latex(nyst_cenCG_generated_uniform)"
   ]
  },
  {
   "cell_type": "code",
   "execution_count": 83,
   "metadata": {},
   "outputs": [
    {
     "name": "stdout",
     "output_type": "stream",
     "text": [
      "${17.80 \\pm 5.15}$ & ${0.37 \\pm 0.13}$ & ${1.00 \\pm 0.00}$ & ${1.00 \\pm 0.00}$ & ${1.00 \\pm 0.00}$\n"
     ]
    }
   ],
   "source": [
    "nyst_fedCG_iris_uniform = \"Results_FedCG/Random_Nystrom_Matrix/NystFedCG/Iris/nystr_fedcg_results_Iris_uniform.csv\"\n",
    "get_stats_latex(nyst_fedCG_iris_uniform)"
   ]
  },
  {
   "cell_type": "code",
   "execution_count": 84,
   "metadata": {},
   "outputs": [
    {
     "name": "stdout",
     "output_type": "stream",
     "text": [
      "${18.40 \\pm 4.24}$ & ${0.09 \\pm 0.06}$ & ${1.00 \\pm 0.00}$ & ${1.00 \\pm 0.00}$ & ${1.00 \\pm 0.00}$\n"
     ]
    }
   ],
   "source": [
    "nyst_cenCG_iris_uniform = \"Results_FedCG/Random_Nystrom_Matrix/NystCenCG/Iris/nystr_cencg_results_Iris_uniform.csv\"\n",
    "get_stats_latex(nyst_cenCG_iris_uniform)"
   ]
  },
  {
   "cell_type": "code",
   "execution_count": 85,
   "metadata": {},
   "outputs": [
    {
     "name": "stdout",
     "output_type": "stream",
     "text": [
      "${61.00 \\pm 9.19}$ & ${6.30 \\pm 1.54}$ & ${0.83 \\pm 0.03}$ & ${0.99 \\pm 0.05}$ & ${0.79 \\pm 0.03}$\n"
     ]
    }
   ],
   "source": [
    "nyst_fedCG_ionosphere_uniform = \"Results_FedCG/Random_Nystrom_Matrix/NystFedCG/Ionosphere/nystr_fedcg_results_Ionosphere_uniform.csv\"\n",
    "get_stats_latex(nyst_fedCG_ionosphere_uniform)"
   ]
  },
  {
   "cell_type": "code",
   "execution_count": 86,
   "metadata": {},
   "outputs": [
    {
     "name": "stdout",
     "output_type": "stream",
     "text": [
      "${61.40 \\pm 7.32}$ & ${2.31 \\pm 1.02}$ & ${0.83 \\pm 0.03}$ & ${0.99 \\pm 0.04}$ & ${0.78 \\pm 0.03}$\n"
     ]
    }
   ],
   "source": [
    "nyst_cenCG_ionosphere_uniform = \"Results_FedCG/Random_Nystrom_Matrix/NystCenCG/Ionosphere/nystr_cencg_results_Ionosphere_uniform.csv\"\n",
    "get_stats_latex(nyst_cenCG_ionosphere_uniform)"
   ]
  },
  {
   "cell_type": "code",
   "execution_count": 87,
   "metadata": {},
   "outputs": [
    {
     "name": "stdout",
     "output_type": "stream",
     "text": [
      "${27.30 \\pm 5.74}$ & ${4.64 \\pm 1.25}$ & ${0.71 \\pm 0.07}$ & ${0.74 \\pm 0.15}$ & ${0.62 \\pm 0.10}$\n"
     ]
    }
   ],
   "source": [
    "nyst_fedCG_sonar_uniform = \"Results_FedCG/Random_Nystrom_Matrix/NystFedCG/Sonar/nystr_fedcg_results_Sonar_uniform.csv\"\n",
    "get_stats_latex(nyst_fedCG_sonar_uniform)"
   ]
  },
  {
   "cell_type": "code",
   "execution_count": 88,
   "metadata": {},
   "outputs": [
    {
     "name": "stdout",
     "output_type": "stream",
     "text": [
      "${26.20 \\pm 5.23}$ & ${1.33 \\pm 0.93}$ & ${0.71 \\pm 0.07}$ & ${0.72 \\pm 0.11}$ & ${0.64 \\pm 0.07}$\n"
     ]
    }
   ],
   "source": [
    "nyst_cenCG_sonar_uniform = \"Results_FedCG/Random_Nystrom_Matrix/NystCenCG/Sonar/nystr_cencg_results_Sonar_uniform.csv\"\n",
    "get_stats_latex(nyst_cenCG_sonar_uniform)"
   ]
  },
  {
   "cell_type": "code",
   "execution_count": 89,
   "metadata": {},
   "outputs": [
    {
     "name": "stdout",
     "output_type": "stream",
     "text": [
      "${59.80 \\pm 15.34}$ & ${5.42 \\pm 1.32}$ & ${0.94 \\pm 0.03}$ & ${0.87 \\pm 0.07}$ & ${0.96 \\pm 0.04}$\n"
     ]
    }
   ],
   "source": [
    "nyst_fedCG_BreastCancer_uniform = \"Results_FedCG/Random_Nystrom_Matrix/NystFedCG/BreastCancer/nystr_fedcg_results_BreastCancer_uniform.csv\"\n",
    "get_stats_latex(nyst_fedCG_BreastCancer_uniform)"
   ]
  },
  {
   "cell_type": "code",
   "execution_count": 90,
   "metadata": {},
   "outputs": [
    {
     "name": "stdout",
     "output_type": "stream",
     "text": [
      "${59.00 \\pm 16.22}$ & ${2.42 \\pm 1.60}$ & ${0.94 \\pm 0.03}$ & ${0.86 \\pm 0.09}$ & ${0.97 \\pm 0.04}$\n"
     ]
    }
   ],
   "source": [
    "nyst_cenCG_BreastCancer_uniform = \"Results_FedCG/Random_Nystrom_Matrix/NystCenCG/BreastCancer/nystr_cencg_results_BreastCancer_uniform.csv\"\n",
    "get_stats_latex(nyst_cenCG_BreastCancer_uniform)"
   ]
  },
  {
   "cell_type": "code",
   "execution_count": 91,
   "metadata": {},
   "outputs": [
    {
     "name": "stdout",
     "output_type": "stream",
     "text": [
      "${64.60 \\pm 12.90}$ & ${3.48 \\pm 2.02}$ & ${0.96 \\pm 0.05}$ & ${0.90 \\pm 0.12}$ & ${0.99 \\pm 0.03}$\n"
     ]
    }
   ],
   "source": [
    "nyst_fedCG_Wine_uniform = \"Results_FedCG/Random_Nystrom_Matrix/NystFedCG/Wine/nystr_fedcg_results_Wine_uniform.csv\"\n",
    "get_stats_latex(nyst_fedCG_Wine_uniform)"
   ]
  },
  {
   "cell_type": "code",
   "execution_count": 92,
   "metadata": {},
   "outputs": [
    {
     "name": "stdout",
     "output_type": "stream",
     "text": [
      "${63.50 \\pm 13.41}$ & ${0.53 \\pm 0.30}$ & ${0.96 \\pm 0.05}$ & ${0.92 \\pm 0.11}$ & ${1.00 \\pm 0.00}$\n"
     ]
    }
   ],
   "source": [
    "nyst_cenCG_Wine_uniform = \"Results_FedCG/Random_Nystrom_Matrix/NystCenCG/Wine/nystr_cencg_results_Wine_uniform.csv\"\n",
    "get_stats_latex(nyst_cenCG_Wine_uniform)"
   ]
  },
  {
   "cell_type": "markdown",
   "metadata": {},
   "source": [
    "### normal"
   ]
  },
  {
   "cell_type": "code",
   "execution_count": 93,
   "metadata": {},
   "outputs": [
    {
     "name": "stdout",
     "output_type": "stream",
     "text": [
      "${12.60 \\pm 1.93}$ & ${4.36 \\pm 1.95}$ & ${0.94 \\pm 0.00}$ & ${0.97 \\pm 0.01}$ & ${0.95 \\pm 0.00}$\n"
     ]
    }
   ],
   "source": [
    "\n",
    "nyst_fedCG_generated_normal = \"Results_FedCG/Random_Nystrom_Matrix/NystFedCG/Generated/nystr_fedcg_results_Generated_normal.csv\"\n",
    "get_stats_latex(nyst_fedCG_generated_normal)"
   ]
  },
  {
   "cell_type": "code",
   "execution_count": 94,
   "metadata": {},
   "outputs": [
    {
     "name": "stdout",
     "output_type": "stream",
     "text": [
      "${13.30 \\pm 4.12}$ & ${3.76 \\pm 1.47}$ & ${0.94 \\pm 0.00}$ & ${0.96 \\pm 0.01}$ & ${0.95 \\pm 0.00}$\n"
     ]
    }
   ],
   "source": [
    "nyst_cenCG_generated_normal = \"Results_FedCG/Random_Nystrom_Matrix/NystCenCG/Generated/nystr_cencg_results_Generated_normal.csv\"\n",
    "get_stats_latex(nyst_cenCG_generated_normal)"
   ]
  },
  {
   "cell_type": "code",
   "execution_count": 95,
   "metadata": {},
   "outputs": [
    {
     "name": "stdout",
     "output_type": "stream",
     "text": [
      "${10.00 \\pm 2.83}$ & ${0.20 \\pm 0.07}$ & ${1.00 \\pm 0.00}$ & ${1.00 \\pm 0.00}$ & ${1.00 \\pm 0.00}$\n"
     ]
    }
   ],
   "source": [
    "nyst_fedCG_iris_normal= \"Results_FedCG/Random_Nystrom_Matrix/NystFedCG/Iris/nystr_fedcg_results_Iris_normal.csv\"\n",
    "get_stats_latex(nyst_fedCG_iris_normal)"
   ]
  },
  {
   "cell_type": "code",
   "execution_count": 96,
   "metadata": {},
   "outputs": [
    {
     "name": "stdout",
     "output_type": "stream",
     "text": [
      "${10.50 \\pm 2.71}$ & ${0.04 \\pm 0.02}$ & ${1.00 \\pm 0.00}$ & ${1.00 \\pm 0.00}$ & ${1.00 \\pm 0.00}$\n"
     ]
    }
   ],
   "source": [
    "nyst_cenCG_iris_normal = \"Results_FedCG/Random_Nystrom_Matrix/NystCenCG/Iris/nystr_cencg_results_Iris_normal.csv\"\n",
    "get_stats_latex(nyst_cenCG_iris_normal)"
   ]
  },
  {
   "cell_type": "code",
   "execution_count": 97,
   "metadata": {},
   "outputs": [
    {
     "name": "stdout",
     "output_type": "stream",
     "text": [
      "${64.40 \\pm 7.00}$ & ${6.99 \\pm 1.92}$ & ${0.87 \\pm 0.03}$ & ${0.99 \\pm 0.02}$ & ${0.82 \\pm 0.05}$\n"
     ]
    }
   ],
   "source": [
    "nyst_fedCG_ionosphere_normal = \"Results_FedCG/Random_Nystrom_Matrix/NystFedCG/Ionosphere/nystr_fedcg_results_Ionosphere_normal.csv\"\n",
    "get_stats_latex(nyst_fedCG_ionosphere_normal)"
   ]
  },
  {
   "cell_type": "code",
   "execution_count": 98,
   "metadata": {},
   "outputs": [
    {
     "name": "stdout",
     "output_type": "stream",
     "text": [
      "${63.90 \\pm 6.29}$ & ${2.60 \\pm 1.44}$ & ${0.87 \\pm 0.03}$ & ${0.99 \\pm 0.02}$ & ${0.83 \\pm 0.04}$\n"
     ]
    }
   ],
   "source": [
    "nyst_cenCG_ionosphere_normal = \"Results_FedCG/Random_Nystrom_Matrix/NystCenCG/Ionosphere/nystr_cencg_results_Ionosphere_normal.csv\"\n",
    "get_stats_latex(nyst_cenCG_ionosphere_normal)"
   ]
  },
  {
   "cell_type": "code",
   "execution_count": 99,
   "metadata": {},
   "outputs": [
    {
     "name": "stdout",
     "output_type": "stream",
     "text": [
      "${35.90 \\pm 5.12}$ & ${6.18 \\pm 1.55}$ & ${0.77 \\pm 0.10}$ & ${0.68 \\pm 0.16}$ & ${0.74 \\pm 0.19}$\n"
     ]
    }
   ],
   "source": [
    "nyst_fedCG_sonar_normal = \"Results_FedCG/Random_Nystrom_Matrix/NystFedCG/Sonar/nystr_fedcg_results_Sonar_normal.csv\"\n",
    "get_stats_latex(nyst_fedCG_sonar_normal)"
   ]
  },
  {
   "cell_type": "code",
   "execution_count": 100,
   "metadata": {},
   "outputs": [
    {
     "name": "stdout",
     "output_type": "stream",
     "text": [
      "${36.80 \\pm 5.48}$ & ${1.89 \\pm 1.02}$ & ${0.77 \\pm 0.10}$ & ${0.67 \\pm 0.13}$ & ${0.77 \\pm 0.18}$\n"
     ]
    }
   ],
   "source": [
    "nyst_cenCG_sonar_normal = \"Results_FedCG/Random_Nystrom_Matrix/NystCenCG/Sonar/nystr_cencg_results_Sonar_normal.csv\"\n",
    "get_stats_latex(nyst_cenCG_sonar_normal)"
   ]
  },
  {
   "cell_type": "code",
   "execution_count": 101,
   "metadata": {},
   "outputs": [
    {
     "name": "stdout",
     "output_type": "stream",
     "text": [
      "${74.60 \\pm 12.04}$ & ${6.84 \\pm 0.97}$ & ${0.96 \\pm 0.02}$ & ${0.92 \\pm 0.04}$ & ${0.97 \\pm 0.03}$\n"
     ]
    }
   ],
   "source": [
    "nyst_fedCG_BreastCancer_normal = \"Results_FedCG/Random_Nystrom_Matrix/NystFedCG/BreastCancer/nystr_fedcg_results_BreastCancer_normal.csv\"\n",
    "get_stats_latex(nyst_fedCG_BreastCancer_normal)"
   ]
  },
  {
   "cell_type": "code",
   "execution_count": 102,
   "metadata": {},
   "outputs": [
    {
     "name": "stdout",
     "output_type": "stream",
     "text": [
      "${76.00 \\pm 11.31}$ & ${3.12 \\pm 1.19}$ & ${0.96 \\pm 0.02}$ & ${0.91 \\pm 0.03}$ & ${0.98 \\pm 0.04}$\n"
     ]
    }
   ],
   "source": [
    "nyst_cenCG_BreastCancer_normal = \"Results_FedCG/Random_Nystrom_Matrix/NystCenCG/BreastCancer/nystr_cencg_results_BreastCancer_normal.csv\"\n",
    "get_stats_latex(nyst_cenCG_BreastCancer_normal)"
   ]
  },
  {
   "cell_type": "code",
   "execution_count": 103,
   "metadata": {},
   "outputs": [
    {
     "name": "stdout",
     "output_type": "stream",
     "text": [
      "${66.00 \\pm 16.97}$ & ${2.68 \\pm 0.52}$ & ${0.97 \\pm 0.04}$ & ${0.92 \\pm 0.14}$ & ${1.00 \\pm 0.00}$\n"
     ]
    }
   ],
   "source": [
    "nyst_fedCG_Wine_normal = \"Results_FedCG/Random_Nystrom_Matrix/NystFedCG/Wine/nystr_fedcg_results_Wine_normal.csv\"\n",
    "get_stats_latex(nyst_fedCG_Wine_normal)"
   ]
  },
  {
   "cell_type": "code",
   "execution_count": 104,
   "metadata": {},
   "outputs": [
    {
     "name": "stdout",
     "output_type": "stream",
     "text": [
      "${65.40 \\pm 15.12}$ & ${0.42 \\pm 0.08}$ & ${0.97 \\pm 0.04}$ & ${0.93 \\pm 0.12}$ & ${1.00 \\pm 0.00}$\n"
     ]
    }
   ],
   "source": [
    "nyst_cenCG_Wine_normal = \"Results_FedCG/Random_Nystrom_Matrix/NystCenCG/Wine/nystr_cencg_results_Wine_normal.csv\"\n",
    "get_stats_latex(nyst_cenCG_Wine_normal)"
   ]
  },
  {
   "cell_type": "code",
   "execution_count": null,
   "metadata": {},
   "outputs": [],
   "source": []
  },
  {
   "cell_type": "markdown",
   "metadata": {},
   "source": [
    "### subsampling"
   ]
  },
  {
   "cell_type": "code",
   "execution_count": 69,
   "metadata": {},
   "outputs": [
    {
     "name": "stdout",
     "output_type": "stream",
     "text": [
      "${12.40 \\pm 1.40}$ & ${3.56 \\pm 2.88}$ & ${0.94 \\pm 0.00}$ & ${0.96 \\pm 0.01}$ & ${0.95 \\pm 0.00}$\n"
     ]
    }
   ],
   "source": [
    "\n",
    "nyst_fedCG_generated_subsampling = \"Results_FedCG/Random_Nystrom_Matrix/NystFedCG/Generated/nystr_fedcg_results_Generated_subsampling.csv\"\n",
    "get_stats_latex(nyst_fedCG_generated_subsampling)"
   ]
  },
  {
   "cell_type": "code",
   "execution_count": 70,
   "metadata": {},
   "outputs": [
    {
     "name": "stdout",
     "output_type": "stream",
     "text": [
      "${12.30 \\pm 0.97}$ & ${3.16 \\pm 2.75}$ & ${0.94 \\pm 0.00}$ & ${0.96 \\pm 0.01}$ & ${0.95 \\pm 0.00}$\n"
     ]
    }
   ],
   "source": [
    "nyst_cenCG_generated_subsampling = \"Results_FedCG/Random_Nystrom_Matrix/NystCenCG/Generated/nystr_cencg_results_Generated_subsampling.csv\"\n",
    "get_stats_latex(nyst_cenCG_generated_subsampling)"
   ]
  },
  {
   "cell_type": "code",
   "execution_count": 71,
   "metadata": {},
   "outputs": [
    {
     "name": "stdout",
     "output_type": "stream",
     "text": [
      "${9.00 \\pm 0.00}$ & ${0.21 \\pm 0.06}$ & ${1.00 \\pm 0.00}$ & ${1.00 \\pm 0.00}$ & ${1.00 \\pm 0.00}$\n"
     ]
    }
   ],
   "source": [
    "nyst_fedCG_iris_subsampling= \"Results_FedCG/Random_Nystrom_Matrix/NystFedCG/Iris/nystr_fedcg_results_Iris_subsampling.csv\"\n",
    "get_stats_latex(nyst_fedCG_iris_subsampling)"
   ]
  },
  {
   "cell_type": "code",
   "execution_count": 72,
   "metadata": {},
   "outputs": [
    {
     "name": "stdout",
     "output_type": "stream",
     "text": [
      "${9.00 \\pm 0.00}$ & ${0.04 \\pm 0.02}$ & ${1.00 \\pm 0.00}$ & ${1.00 \\pm 0.00}$ & ${1.00 \\pm 0.00}$\n"
     ]
    }
   ],
   "source": [
    "nyst_cenCG_iris_subsampling = \"Results_FedCG/Random_Nystrom_Matrix/NystCenCG/Iris/nystr_cencg_results_Iris_subsampling.csv\"\n",
    "get_stats_latex(nyst_cenCG_iris_subsampling)"
   ]
  },
  {
   "cell_type": "code",
   "execution_count": 73,
   "metadata": {},
   "outputs": [
    {
     "name": "stdout",
     "output_type": "stream",
     "text": [
      "${136.30 \\pm 23.89}$ & ${13.27 \\pm 2.77}$ & ${0.89 \\pm 0.04}$ & ${0.95 \\pm 0.04}$ & ${0.87 \\pm 0.06}$\n"
     ]
    }
   ],
   "source": [
    "nyst_fedCG_ionosphere_subsampling = \"Results_FedCG/Random_Nystrom_Matrix/NystFedCG/Ionosphere/nystr_fedcg_results_Ionosphere_subsampling.csv\"\n",
    "get_stats_latex(nyst_fedCG_ionosphere_subsampling)"
   ]
  },
  {
   "cell_type": "code",
   "execution_count": 74,
   "metadata": {},
   "outputs": [
    {
     "name": "stdout",
     "output_type": "stream",
     "text": [
      "${140.70 \\pm 29.14}$ & ${5.18 \\pm 1.38}$ & ${0.89 \\pm 0.04}$ & ${0.96 \\pm 0.03}$ & ${0.87 \\pm 0.06}$\n"
     ]
    }
   ],
   "source": [
    "nyst_cenCG_ionosphere_subsampling = \"Results_FedCG/Random_Nystrom_Matrix/NystCenCG/Ionosphere/nystr_cencg_results_Ionosphere_subsampling.csv\"\n",
    "get_stats_latex(nyst_cenCG_ionosphere_subsampling)"
   ]
  },
  {
   "cell_type": "code",
   "execution_count": 75,
   "metadata": {},
   "outputs": [
    {
     "name": "stdout",
     "output_type": "stream",
     "text": [
      "${52.90 \\pm 16.53}$ & ${8.76 \\pm 2.91}$ & ${0.86 \\pm 0.07}$ & ${0.83 \\pm 0.15}$ & ${0.86 \\pm 0.07}$\n"
     ]
    }
   ],
   "source": [
    "nyst_fedCG_sonar_subsampling = \"Results_FedCG/Random_Nystrom_Matrix/NystFedCG/Sonar/nystr_fedcg_results_Sonar_subsampling.csv\"\n",
    "get_stats_latex(nyst_fedCG_sonar_subsampling)"
   ]
  },
  {
   "cell_type": "code",
   "execution_count": 76,
   "metadata": {},
   "outputs": [
    {
     "name": "stdout",
     "output_type": "stream",
     "text": [
      "${53.30 \\pm 18.38}$ & ${2.81 \\pm 1.13}$ & ${0.86 \\pm 0.07}$ & ${0.81 \\pm 0.13}$ & ${0.87 \\pm 0.06}$\n"
     ]
    }
   ],
   "source": [
    "nyst_cenCG_sonar_subsampling = \"Results_FedCG/Random_Nystrom_Matrix/NystCenCG/Sonar/nystr_cencg_results_Sonar_subsampling.csv\"\n",
    "get_stats_latex(nyst_cenCG_sonar_subsampling)"
   ]
  },
  {
   "cell_type": "code",
   "execution_count": 77,
   "metadata": {},
   "outputs": [
    {
     "name": "stdout",
     "output_type": "stream",
     "text": [
      "${102.90 \\pm 23.50}$ & ${8.82 \\pm 2.50}$ & ${0.97 \\pm 0.02}$ & ${0.94 \\pm 0.04}$ & ${0.97 \\pm 0.05}$\n"
     ]
    }
   ],
   "source": [
    "nyst_fedCG_BreastCancer_subsampling = \"Results_FedCG/Random_Nystrom_Matrix/NystFedCG/BreastCancer/nystr_fedcg_results_BreastCancer_subsampling.csv\"\n",
    "get_stats_latex(nyst_fedCG_BreastCancer_subsampling)"
   ]
  },
  {
   "cell_type": "code",
   "execution_count": 78,
   "metadata": {},
   "outputs": [
    {
     "name": "stdout",
     "output_type": "stream",
     "text": [
      "${109.10 \\pm 26.25}$ & ${4.02 \\pm 1.33}$ & ${0.97 \\pm 0.02}$ & ${0.94 \\pm 0.03}$ & ${0.98 \\pm 0.03}$\n"
     ]
    }
   ],
   "source": [
    "nyst_cenCG_BreastCancer_subsampling = \"Results_FedCG/Random_Nystrom_Matrix/NystCenCG/BreastCancer/nystr_cencg_results_BreastCancer_subsampling.csv\"\n",
    "get_stats_latex(nyst_cenCG_BreastCancer_subsampling)"
   ]
  },
  {
   "cell_type": "code",
   "execution_count": 79,
   "metadata": {},
   "outputs": [
    {
     "name": "stdout",
     "output_type": "stream",
     "text": [
      "${77.60 \\pm 21.06}$ & ${3.40 \\pm 1.01}$ & ${0.98 \\pm 0.03}$ & ${0.94 \\pm 0.07}$ & ${1.00 \\pm 0.00}$\n"
     ]
    }
   ],
   "source": [
    "nyst_fedCG_Wine_subsampling = \"Results_FedCG/Random_Nystrom_Matrix/NystFedCG/Wine/nystr_fedcg_results_Wine_subsampling.csv\"\n",
    "get_stats_latex(nyst_fedCG_Wine_subsampling)"
   ]
  },
  {
   "cell_type": "code",
   "execution_count": 80,
   "metadata": {},
   "outputs": [
    {
     "name": "stdout",
     "output_type": "stream",
     "text": [
      "${80.30 \\pm 18.67}$ & ${0.53 \\pm 0.14}$ & ${0.98 \\pm 0.03}$ & ${0.95 \\pm 0.08}$ & ${1.00 \\pm 0.03}$\n"
     ]
    }
   ],
   "source": [
    "nyst_cenCG_Wine_subsampling = \"Results_FedCG/Random_Nystrom_Matrix/NystCenCG/Wine/nystr_cencg_results_Wine_subsampling.csv\"\n",
    "get_stats_latex(nyst_cenCG_Wine_subsampling)"
   ]
  },
  {
   "cell_type": "code",
   "execution_count": null,
   "metadata": {},
   "outputs": [],
   "source": []
  },
  {
   "cell_type": "code",
   "execution_count": null,
   "metadata": {},
   "outputs": [],
   "source": []
  },
  {
   "cell_type": "code",
   "execution_count": null,
   "metadata": {},
   "outputs": [],
   "source": []
  },
  {
   "cell_type": "code",
   "execution_count": null,
   "metadata": {},
   "outputs": [],
   "source": []
  },
  {
   "cell_type": "code",
   "execution_count": null,
   "metadata": {},
   "outputs": [],
   "source": []
  },
  {
   "cell_type": "code",
   "execution_count": null,
   "metadata": {},
   "outputs": [],
   "source": []
  },
  {
   "cell_type": "code",
   "execution_count": null,
   "metadata": {},
   "outputs": [],
   "source": []
  },
  {
   "cell_type": "code",
   "execution_count": null,
   "metadata": {},
   "outputs": [],
   "source": []
  }
 ],
 "metadata": {
  "kernelspec": {
   "display_name": "federatedRLSker",
   "language": "python",
   "name": "federatedrlsker"
  },
  "language_info": {
   "codemirror_mode": {
    "name": "ipython",
    "version": 3
   },
   "file_extension": ".py",
   "mimetype": "text/x-python",
   "name": "python",
   "nbconvert_exporter": "python",
   "pygments_lexer": "ipython3",
   "version": "3.10.6"
  }
 },
 "nbformat": 4,
 "nbformat_minor": 2
}
